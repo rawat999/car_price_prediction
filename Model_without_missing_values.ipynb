{
 "cells": [
  {
   "cell_type": "markdown",
   "metadata": {},
   "source": [
    "## Modelling without missing values"
   ]
  },
  {
   "cell_type": "code",
   "execution_count": 1,
   "metadata": {},
   "outputs": [],
   "source": [
    "# Import necessary libraries\n",
    "import pandas as pd\n",
    "import numpy as np\n",
    "\n",
    "# Necessary libraries for Visualisation \n",
    "import matplotlib.pyplot as plt\n",
    "import seaborn as sns\n",
    "\n",
    "# stats library for statistical analysis\n",
    "import statsmodels.api as sm\n",
    "from scipy import stats"
   ]
  },
  {
   "cell_type": "code",
   "execution_count": 2,
   "metadata": {},
   "outputs": [
    {
     "data": {
      "text/html": [
       "<div>\n",
       "<style scoped>\n",
       "    .dataframe tbody tr th:only-of-type {\n",
       "        vertical-align: middle;\n",
       "    }\n",
       "\n",
       "    .dataframe tbody tr th {\n",
       "        vertical-align: top;\n",
       "    }\n",
       "\n",
       "    .dataframe thead th {\n",
       "        text-align: right;\n",
       "    }\n",
       "</style>\n",
       "<table border=\"1\" class=\"dataframe\">\n",
       "  <thead>\n",
       "    <tr style=\"text-align: right;\">\n",
       "      <th></th>\n",
       "      <th>make</th>\n",
       "      <th>model</th>\n",
       "      <th>priceUSD</th>\n",
       "      <th>year</th>\n",
       "      <th>condition</th>\n",
       "      <th>mileage(kilometers)</th>\n",
       "      <th>fuel_type</th>\n",
       "      <th>volume(cm3)</th>\n",
       "      <th>color</th>\n",
       "      <th>transmission</th>\n",
       "      <th>drive_unit</th>\n",
       "      <th>segment</th>\n",
       "    </tr>\n",
       "  </thead>\n",
       "  <tbody>\n",
       "    <tr>\n",
       "      <th>0</th>\n",
       "      <td>honda</td>\n",
       "      <td>accord</td>\n",
       "      <td>565</td>\n",
       "      <td>1993</td>\n",
       "      <td>with mileage</td>\n",
       "      <td>960015.0</td>\n",
       "      <td>petrol</td>\n",
       "      <td>2000.0</td>\n",
       "      <td>black</td>\n",
       "      <td>mechanics</td>\n",
       "      <td>front-wheel drive</td>\n",
       "      <td>D</td>\n",
       "    </tr>\n",
       "    <tr>\n",
       "      <th>1</th>\n",
       "      <td>ford</td>\n",
       "      <td>fusion</td>\n",
       "      <td>5550</td>\n",
       "      <td>2008</td>\n",
       "      <td>with mileage</td>\n",
       "      <td>172000.0</td>\n",
       "      <td>diesel</td>\n",
       "      <td>1400.0</td>\n",
       "      <td>silver</td>\n",
       "      <td>mechanics</td>\n",
       "      <td>front-wheel drive</td>\n",
       "      <td>M</td>\n",
       "    </tr>\n",
       "    <tr>\n",
       "      <th>2</th>\n",
       "      <td>nissan</td>\n",
       "      <td>teana</td>\n",
       "      <td>8300</td>\n",
       "      <td>2008</td>\n",
       "      <td>with mileage</td>\n",
       "      <td>223000.0</td>\n",
       "      <td>petrol</td>\n",
       "      <td>2500.0</td>\n",
       "      <td>purple</td>\n",
       "      <td>auto</td>\n",
       "      <td>front-wheel drive</td>\n",
       "      <td>D</td>\n",
       "    </tr>\n",
       "    <tr>\n",
       "      <th>3</th>\n",
       "      <td>volkswagen</td>\n",
       "      <td>fox</td>\n",
       "      <td>3300</td>\n",
       "      <td>2005</td>\n",
       "      <td>with mileage</td>\n",
       "      <td>140000.0</td>\n",
       "      <td>petrol</td>\n",
       "      <td>1200.0</td>\n",
       "      <td>blue</td>\n",
       "      <td>mechanics</td>\n",
       "      <td>front-wheel drive</td>\n",
       "      <td>A</td>\n",
       "    </tr>\n",
       "    <tr>\n",
       "      <th>4</th>\n",
       "      <td>nissan</td>\n",
       "      <td>primera</td>\n",
       "      <td>2450</td>\n",
       "      <td>2002</td>\n",
       "      <td>with damage</td>\n",
       "      <td>413000.0</td>\n",
       "      <td>diesel</td>\n",
       "      <td>2200.0</td>\n",
       "      <td>burgundy</td>\n",
       "      <td>mechanics</td>\n",
       "      <td>front-wheel drive</td>\n",
       "      <td>D</td>\n",
       "    </tr>\n",
       "  </tbody>\n",
       "</table>\n",
       "</div>"
      ],
      "text/plain": [
       "         make    model  priceUSD  year     condition  mileage(kilometers)  \\\n",
       "0       honda   accord       565  1993  with mileage             960015.0   \n",
       "1        ford   fusion      5550  2008  with mileage             172000.0   \n",
       "2      nissan    teana      8300  2008  with mileage             223000.0   \n",
       "3  volkswagen      fox      3300  2005  with mileage             140000.0   \n",
       "4      nissan  primera      2450  2002   with damage             413000.0   \n",
       "\n",
       "  fuel_type  volume(cm3)     color transmission         drive_unit segment  \n",
       "0    petrol       2000.0     black    mechanics  front-wheel drive       D  \n",
       "1    diesel       1400.0    silver    mechanics  front-wheel drive       M  \n",
       "2    petrol       2500.0    purple         auto  front-wheel drive       D  \n",
       "3    petrol       1200.0      blue    mechanics  front-wheel drive       A  \n",
       "4    diesel       2200.0  burgundy    mechanics  front-wheel drive       D  "
      ]
     },
     "execution_count": 2,
     "metadata": {},
     "output_type": "execute_result"
    }
   ],
   "source": [
    "df = pd.read_csv(\"cars_price.csv\",index_col = ['Unnamed: 0']) # import data\n",
    "df.head()"
   ]
  },
  {
   "cell_type": "code",
   "execution_count": 3,
   "metadata": {},
   "outputs": [
    {
     "name": "stdout",
     "output_type": "stream",
     "text": [
      "<class 'pandas.core.frame.DataFrame'>\n",
      "Int64Index: 40000 entries, 0 to 39999\n",
      "Data columns (total 12 columns):\n",
      "make                   40000 non-null object\n",
      "model                  40000 non-null object\n",
      "priceUSD               40000 non-null int64\n",
      "year                   40000 non-null int64\n",
      "condition              40000 non-null object\n",
      "mileage(kilometers)    40000 non-null float64\n",
      "fuel_type              40000 non-null object\n",
      "volume(cm3)            39970 non-null float64\n",
      "color                  40000 non-null object\n",
      "transmission           40000 non-null object\n",
      "drive_unit             38655 non-null object\n",
      "segment                36245 non-null object\n",
      "dtypes: float64(2), int64(2), object(8)\n",
      "memory usage: 4.0+ MB\n"
     ]
    }
   ],
   "source": [
    "df.info()"
   ]
  },
  {
   "cell_type": "code",
   "execution_count": 4,
   "metadata": {},
   "outputs": [
    {
     "data": {
      "text/plain": [
       "make                      0\n",
       "model                     0\n",
       "priceUSD                  0\n",
       "year                      0\n",
       "condition                 0\n",
       "mileage(kilometers)       0\n",
       "fuel_type                 0\n",
       "volume(cm3)              30\n",
       "color                     0\n",
       "transmission              0\n",
       "drive_unit             1345\n",
       "segment                3755\n",
       "dtype: int64"
      ]
     },
     "execution_count": 4,
     "metadata": {},
     "output_type": "execute_result"
    }
   ],
   "source": [
    "df.isnull().sum()"
   ]
  },
  {
   "cell_type": "code",
   "execution_count": 5,
   "metadata": {},
   "outputs": [
    {
     "data": {
      "text/plain": [
       "(35016, 12)"
      ]
     },
     "execution_count": 5,
     "metadata": {},
     "output_type": "execute_result"
    }
   ],
   "source": [
    "df = df.dropna()\n",
    "df.shape"
   ]
  },
  {
   "cell_type": "markdown",
   "metadata": {},
   "source": [
    "#### Create New Variable 'car_age' derived from variable 'year'"
   ]
  },
  {
   "cell_type": "code",
   "execution_count": 6,
   "metadata": {},
   "outputs": [],
   "source": [
    "df['no.year'] = 2020"
   ]
  },
  {
   "cell_type": "code",
   "execution_count": 7,
   "metadata": {},
   "outputs": [
    {
     "data": {
      "text/html": [
       "<div>\n",
       "<style scoped>\n",
       "    .dataframe tbody tr th:only-of-type {\n",
       "        vertical-align: middle;\n",
       "    }\n",
       "\n",
       "    .dataframe tbody tr th {\n",
       "        vertical-align: top;\n",
       "    }\n",
       "\n",
       "    .dataframe thead th {\n",
       "        text-align: right;\n",
       "    }\n",
       "</style>\n",
       "<table border=\"1\" class=\"dataframe\">\n",
       "  <thead>\n",
       "    <tr style=\"text-align: right;\">\n",
       "      <th></th>\n",
       "      <th>make</th>\n",
       "      <th>model</th>\n",
       "      <th>priceUSD</th>\n",
       "      <th>condition</th>\n",
       "      <th>mileage(kilometers)</th>\n",
       "      <th>fuel_type</th>\n",
       "      <th>volume(cm3)</th>\n",
       "      <th>color</th>\n",
       "      <th>transmission</th>\n",
       "      <th>drive_unit</th>\n",
       "      <th>segment</th>\n",
       "      <th>car_age</th>\n",
       "    </tr>\n",
       "  </thead>\n",
       "  <tbody>\n",
       "    <tr>\n",
       "      <th>0</th>\n",
       "      <td>honda</td>\n",
       "      <td>accord</td>\n",
       "      <td>565</td>\n",
       "      <td>with mileage</td>\n",
       "      <td>960015.0</td>\n",
       "      <td>petrol</td>\n",
       "      <td>2000.0</td>\n",
       "      <td>black</td>\n",
       "      <td>mechanics</td>\n",
       "      <td>front-wheel drive</td>\n",
       "      <td>D</td>\n",
       "      <td>27</td>\n",
       "    </tr>\n",
       "    <tr>\n",
       "      <th>1</th>\n",
       "      <td>ford</td>\n",
       "      <td>fusion</td>\n",
       "      <td>5550</td>\n",
       "      <td>with mileage</td>\n",
       "      <td>172000.0</td>\n",
       "      <td>diesel</td>\n",
       "      <td>1400.0</td>\n",
       "      <td>silver</td>\n",
       "      <td>mechanics</td>\n",
       "      <td>front-wheel drive</td>\n",
       "      <td>M</td>\n",
       "      <td>12</td>\n",
       "    </tr>\n",
       "    <tr>\n",
       "      <th>2</th>\n",
       "      <td>nissan</td>\n",
       "      <td>teana</td>\n",
       "      <td>8300</td>\n",
       "      <td>with mileage</td>\n",
       "      <td>223000.0</td>\n",
       "      <td>petrol</td>\n",
       "      <td>2500.0</td>\n",
       "      <td>purple</td>\n",
       "      <td>auto</td>\n",
       "      <td>front-wheel drive</td>\n",
       "      <td>D</td>\n",
       "      <td>12</td>\n",
       "    </tr>\n",
       "    <tr>\n",
       "      <th>3</th>\n",
       "      <td>volkswagen</td>\n",
       "      <td>fox</td>\n",
       "      <td>3300</td>\n",
       "      <td>with mileage</td>\n",
       "      <td>140000.0</td>\n",
       "      <td>petrol</td>\n",
       "      <td>1200.0</td>\n",
       "      <td>blue</td>\n",
       "      <td>mechanics</td>\n",
       "      <td>front-wheel drive</td>\n",
       "      <td>A</td>\n",
       "      <td>15</td>\n",
       "    </tr>\n",
       "    <tr>\n",
       "      <th>4</th>\n",
       "      <td>nissan</td>\n",
       "      <td>primera</td>\n",
       "      <td>2450</td>\n",
       "      <td>with damage</td>\n",
       "      <td>413000.0</td>\n",
       "      <td>diesel</td>\n",
       "      <td>2200.0</td>\n",
       "      <td>burgundy</td>\n",
       "      <td>mechanics</td>\n",
       "      <td>front-wheel drive</td>\n",
       "      <td>D</td>\n",
       "      <td>18</td>\n",
       "    </tr>\n",
       "  </tbody>\n",
       "</table>\n",
       "</div>"
      ],
      "text/plain": [
       "         make    model  priceUSD     condition  mileage(kilometers) fuel_type  \\\n",
       "0       honda   accord       565  with mileage             960015.0    petrol   \n",
       "1        ford   fusion      5550  with mileage             172000.0    diesel   \n",
       "2      nissan    teana      8300  with mileage             223000.0    petrol   \n",
       "3  volkswagen      fox      3300  with mileage             140000.0    petrol   \n",
       "4      nissan  primera      2450   with damage             413000.0    diesel   \n",
       "\n",
       "   volume(cm3)     color transmission         drive_unit segment  car_age  \n",
       "0       2000.0     black    mechanics  front-wheel drive       D       27  \n",
       "1       1400.0    silver    mechanics  front-wheel drive       M       12  \n",
       "2       2500.0    purple         auto  front-wheel drive       D       12  \n",
       "3       1200.0      blue    mechanics  front-wheel drive       A       15  \n",
       "4       2200.0  burgundy    mechanics  front-wheel drive       D       18  "
      ]
     },
     "execution_count": 7,
     "metadata": {},
     "output_type": "execute_result"
    }
   ],
   "source": [
    "df['car_age'] = df['no.year'] - df['year']\n",
    "df.drop(columns=['year','no.year'],inplace=True)\n",
    "df.head()"
   ]
  },
  {
   "cell_type": "markdown",
   "metadata": {},
   "source": [
    "#### Correlation between numerical values"
   ]
  },
  {
   "cell_type": "code",
   "execution_count": 8,
   "metadata": {},
   "outputs": [
    {
     "data": {
      "text/html": [
       "<div>\n",
       "<style scoped>\n",
       "    .dataframe tbody tr th:only-of-type {\n",
       "        vertical-align: middle;\n",
       "    }\n",
       "\n",
       "    .dataframe tbody tr th {\n",
       "        vertical-align: top;\n",
       "    }\n",
       "\n",
       "    .dataframe thead th {\n",
       "        text-align: right;\n",
       "    }\n",
       "</style>\n",
       "<table border=\"1\" class=\"dataframe\">\n",
       "  <thead>\n",
       "    <tr style=\"text-align: right;\">\n",
       "      <th></th>\n",
       "      <th>priceUSD</th>\n",
       "      <th>mileage(kilometers)</th>\n",
       "      <th>volume(cm3)</th>\n",
       "      <th>car_age</th>\n",
       "    </tr>\n",
       "  </thead>\n",
       "  <tbody>\n",
       "    <tr>\n",
       "      <th>priceUSD</th>\n",
       "      <td>1.000000</td>\n",
       "      <td>-0.179098</td>\n",
       "      <td>0.268773</td>\n",
       "      <td>-0.643067</td>\n",
       "    </tr>\n",
       "    <tr>\n",
       "      <th>mileage(kilometers)</th>\n",
       "      <td>-0.179098</td>\n",
       "      <td>1.000000</td>\n",
       "      <td>0.019253</td>\n",
       "      <td>0.245647</td>\n",
       "    </tr>\n",
       "    <tr>\n",
       "      <th>volume(cm3)</th>\n",
       "      <td>0.268773</td>\n",
       "      <td>0.019253</td>\n",
       "      <td>1.000000</td>\n",
       "      <td>-0.028499</td>\n",
       "    </tr>\n",
       "    <tr>\n",
       "      <th>car_age</th>\n",
       "      <td>-0.643067</td>\n",
       "      <td>0.245647</td>\n",
       "      <td>-0.028499</td>\n",
       "      <td>1.000000</td>\n",
       "    </tr>\n",
       "  </tbody>\n",
       "</table>\n",
       "</div>"
      ],
      "text/plain": [
       "                     priceUSD  mileage(kilometers)  volume(cm3)   car_age\n",
       "priceUSD             1.000000            -0.179098     0.268773 -0.643067\n",
       "mileage(kilometers) -0.179098             1.000000     0.019253  0.245647\n",
       "volume(cm3)          0.268773             0.019253     1.000000 -0.028499\n",
       "car_age             -0.643067             0.245647    -0.028499  1.000000"
      ]
     },
     "execution_count": 8,
     "metadata": {},
     "output_type": "execute_result"
    }
   ],
   "source": [
    "df.corr()"
   ]
  },
  {
   "cell_type": "markdown",
   "metadata": {},
   "source": [
    "<b> By using correlation between numerical variables: </b>\n",
    "1. We can see that there is high correlation between car_age and priceUSD variable. conclude that older the car, lower the price of the car.  \n",
    "2. some positive correlation between volume and price. conclude that high volume car has high price.\n",
    "3. Very low correlation between mileage and price of the car. "
   ]
  },
  {
   "cell_type": "code",
   "execution_count": 9,
   "metadata": {},
   "outputs": [
    {
     "data": {
      "image/png": "[encoded data removed]",
      "text/plain": [
       "<Figure size 432x288 with 1 Axes>"
      ]
     },
     "metadata": {
      "needs_background": "light"
     },
     "output_type": "display_data"
    }
   ],
   "source": [
    "plt.scatter(df['car_age'],df['priceUSD'])\n",
    "plt.ylabel(\"priceUSD\")\n",
    "plt.xlabel(\"car_age\")\n",
    "plt.show()"
   ]
  },
  {
   "cell_type": "code",
   "execution_count": 10,
   "metadata": {},
   "outputs": [
    {
     "name": "stderr",
     "output_type": "stream",
     "text": [
      "/home/prem/anaconda3/lib/python3.7/site-packages/numpy/core/fromnumeric.py:2389: FutureWarning: Method .ptp is deprecated and will be removed in a future version. Use numpy.ptp instead.\n",
      "  return ptp(axis=axis, out=out, **kwargs)\n"
     ]
    },
    {
     "name": "stdout",
     "output_type": "stream",
     "text": [
      "                            OLS Regression Results                            \n",
      "==============================================================================\n",
      "Dep. Variable:               priceUSD   R-squared:                       0.414\n",
      "Model:                            OLS   Adj. R-squared:                  0.414\n",
      "Method:                 Least Squares   F-statistic:                 2.469e+04\n",
      "Date:                Wed, 18 Nov 2020   Prob (F-statistic):               0.00\n",
      "Time:                        12:49:20   Log-Likelihood:            -3.5441e+05\n",
      "No. Observations:               35016   AIC:                         7.088e+05\n",
      "Df Residuals:                   35014   BIC:                         7.088e+05\n",
      "Df Model:                           1                                         \n",
      "Covariance Type:            nonrobust                                         \n",
      "==============================================================================\n",
      "                 coef    std err          t      P>|t|      [0.025      0.975]\n",
      "------------------------------------------------------------------------------\n",
      "const       1.791e+04     74.585    240.142      0.000    1.78e+04    1.81e+04\n",
      "car_age     -639.7089      4.071   -157.129      0.000    -647.689    -631.729\n",
      "==============================================================================\n",
      "Omnibus:                    41012.051   Durbin-Watson:                   2.015\n",
      "Prob(Omnibus):                  0.000   Jarque-Bera (JB):          7857212.716\n",
      "Skew:                           6.018   Prob(JB):                         0.00\n",
      "Kurtosis:                      75.391   Cond. No.                         42.6\n",
      "==============================================================================\n",
      "\n",
      "Warnings:\n",
      "[1] Standard Errors assume that the covariance matrix of the errors is correctly specified.\n"
     ]
    }
   ],
   "source": [
    "x = df['car_age']\n",
    "y = df['priceUSD']\n",
    "z = sm.add_constant(x)\n",
    "model = sm.OLS(y,z).fit()\n",
    "print(model.summary())"
   ]
  },
  {
   "cell_type": "code",
   "execution_count": 11,
   "metadata": {},
   "outputs": [
    {
     "data": {
      "text/plain": [
       "array([-0.01226904, -0.77842591, -0.32145372, ..., -0.16658793,\n",
       "       -0.07927836,  0.76158635])"
      ]
     },
     "execution_count": 11,
     "metadata": {},
     "output_type": "execute_result"
    }
   ],
   "source": [
    "E = model.resid_pearson\n",
    "E"
   ]
  },
  {
   "cell_type": "code",
   "execution_count": 12,
   "metadata": {},
   "outputs": [
    {
     "data": {
      "text/plain": [
       "0      638.833492\n",
       "1    10234.467204\n",
       "2    10234.467204\n",
       "3     8315.340462\n",
       "4     6396.213719\n",
       "dtype: float64"
      ]
     },
     "execution_count": 12,
     "metadata": {},
     "output_type": "execute_result"
    }
   ],
   "source": [
    "y_hat = model.predict(z)\n",
    "y_hat[:5]"
   ]
  },
  {
   "cell_type": "code",
   "execution_count": 13,
   "metadata": {},
   "outputs": [
    {
     "data": {
      "image/png": "[encoded data removed]",
      "text/plain": [
       "<Figure size 432x288 with 1 Axes>"
      ]
     },
     "metadata": {
      "needs_background": "light"
     },
     "output_type": "display_data"
    }
   ],
   "source": [
    "plt.scatter(y_hat,E,color='red')\n",
    "plt.xlabel('Predicted Y')\n",
    "plt.ylabel('Residuals')\n",
    "plt.show()"
   ]
  },
  {
   "cell_type": "markdown",
   "metadata": {},
   "source": [
    "NOTE: Here, we can see clearly that there is a conical relationship between predicted value and residual. So, we need to transform our dependent variable."
   ]
  },
  {
   "cell_type": "markdown",
   "metadata": {},
   "source": [
    "###### USE Log of dependent variable "
   ]
  },
  {
   "cell_type": "code",
   "execution_count": 14,
   "metadata": {},
   "outputs": [
    {
     "name": "stdout",
     "output_type": "stream",
     "text": [
      "                            OLS Regression Results                            \n",
      "==============================================================================\n",
      "Dep. Variable:               priceUSD   R-squared:                       0.686\n",
      "Model:                            OLS   Adj. R-squared:                  0.686\n",
      "Method:                 Least Squares   F-statistic:                 7.658e+04\n",
      "Date:                Wed, 18 Nov 2020   Prob (F-statistic):               0.00\n",
      "Time:                        12:49:25   Log-Likelihood:                -30345.\n",
      "No. Observations:               35016   AIC:                         6.069e+04\n",
      "Df Residuals:                   35014   BIC:                         6.071e+04\n",
      "Df Model:                           1                                         \n",
      "Covariance Type:            nonrobust                                         \n",
      "==============================================================================\n",
      "                 coef    std err          t      P>|t|      [0.025      0.975]\n",
      "------------------------------------------------------------------------------\n",
      "const         10.2242      0.007   1433.126      0.000      10.210      10.238\n",
      "car_age       -0.1078      0.000   -276.732      0.000      -0.109      -0.107\n",
      "==============================================================================\n",
      "Omnibus:                     3552.355   Durbin-Watson:                   2.016\n",
      "Prob(Omnibus):                  0.000   Jarque-Bera (JB):            28726.672\n",
      "Skew:                           0.104   Prob(JB):                         0.00\n",
      "Kurtosis:                       7.432   Cond. No.                         42.6\n",
      "==============================================================================\n",
      "\n",
      "Warnings:\n",
      "[1] Standard Errors assume that the covariance matrix of the errors is correctly specified.\n"
     ]
    }
   ],
   "source": [
    "x = df['car_age']\n",
    "y = np.log(df['priceUSD'])\n",
    "z = sm.add_constant(x)\n",
    "model1 = sm.OLS(y,z).fit()\n",
    "print(model1.summary())"
   ]
  },
  {
   "cell_type": "code",
   "execution_count": 15,
   "metadata": {},
   "outputs": [
    {
     "data": {
      "text/plain": [
       "array([-1.69854094, -0.53763355,  0.16153596, ...,  0.50393009,\n",
       "        0.57835232,  0.09008695])"
      ]
     },
     "execution_count": 15,
     "metadata": {},
     "output_type": "execute_result"
    }
   ],
   "source": [
    "E1 = model1.resid_pearson\n",
    "E1"
   ]
  },
  {
   "cell_type": "code",
   "execution_count": 16,
   "metadata": {},
   "outputs": [
    {
     "data": {
      "text/plain": [
       "0    7.314544\n",
       "1    8.931027\n",
       "2    8.931027\n",
       "3    8.607730\n",
       "4    8.284434\n",
       "dtype: float64"
      ]
     },
     "execution_count": 16,
     "metadata": {},
     "output_type": "execute_result"
    }
   ],
   "source": [
    "y_hat1 = model1.predict(z)\n",
    "y_hat1[:5]"
   ]
  },
  {
   "cell_type": "code",
   "execution_count": 17,
   "metadata": {},
   "outputs": [
    {
     "data": {
      "image/png": "[encoded data removed]",
      "text/plain": [
       "<Figure size 432x288 with 1 Axes>"
      ]
     },
     "metadata": {
      "needs_background": "light"
     },
     "output_type": "display_data"
    }
   ],
   "source": [
    "plt.scatter(y_hat1,E1,color='red')\n",
    "plt.xlabel('Predicted Y')\n",
    "plt.ylabel('Residuals')\n",
    "plt.show()"
   ]
  },
  {
   "cell_type": "markdown",
   "metadata": {},
   "source": [
    "Note: Now, residual plot is fine. Here, we conclude that log of dependent variable is better."
   ]
  },
  {
   "cell_type": "markdown",
   "metadata": {},
   "source": [
    "##### Use of all Quatitative feature"
   ]
  },
  {
   "cell_type": "code",
   "execution_count": 18,
   "metadata": {},
   "outputs": [
    {
     "name": "stdout",
     "output_type": "stream",
     "text": [
      "                            OLS Regression Results                            \n",
      "==============================================================================\n",
      "Dep. Variable:               priceUSD   R-squared:                       0.737\n",
      "Model:                            OLS   Adj. R-squared:                  0.737\n",
      "Method:                 Least Squares   F-statistic:                 3.263e+04\n",
      "Date:                Wed, 18 Nov 2020   Prob (F-statistic):               0.00\n",
      "Time:                        12:49:35   Log-Likelihood:                -27286.\n",
      "No. Observations:               35016   AIC:                         5.458e+04\n",
      "Df Residuals:                   35012   BIC:                         5.461e+04\n",
      "Df Model:                           3                                         \n",
      "Covariance Type:            nonrobust                                         \n",
      "==============================================================================\n",
      "                 coef    std err          t      P>|t|      [0.025      0.975]\n",
      "------------------------------------------------------------------------------\n",
      "const          9.6873      0.009   1043.075      0.000       9.669       9.706\n",
      "x1            -0.1070      0.000   -290.394      0.000      -0.108      -0.106\n",
      "x2          3.624e-09    9.4e-09      0.386      0.700   -1.48e-08     2.2e-08\n",
      "x3             0.0002   3.06e-06     81.710      0.000       0.000       0.000\n",
      "==============================================================================\n",
      "Omnibus:                     9331.590   Durbin-Watson:                   2.013\n",
      "Prob(Omnibus):                  0.000   Jarque-Bera (JB):           229583.958\n",
      "Skew:                          -0.724   Prob(JB):                         0.00\n",
      "Kurtosis:                      15.460   Cond. No.                     1.30e+06\n",
      "==============================================================================\n",
      "\n",
      "Warnings:\n",
      "[1] Standard Errors assume that the covariance matrix of the errors is correctly specified.\n",
      "[2] The condition number is large, 1.3e+06. This might indicate that there are\n",
      "strong multicollinearity or other numerical problems.\n"
     ]
    }
   ],
   "source": [
    "x = np.column_stack((df['car_age'],df['mileage(kilometers)'],df['volume(cm3)']))\n",
    "y = np.log(df['priceUSD'])\n",
    "z = sm.add_constant(x)\n",
    "model1 = sm.OLS(y,z).fit()\n",
    "print(model1.summary())"
   ]
  },
  {
   "cell_type": "markdown",
   "metadata": {},
   "source": [
    "<b> Note: </b>\n",
    "t-statistic is very less for variable mileage.\n",
    "If we wet alpha = 5%  but here we get p-value is 70 % .\n",
    "these shows that this feature is not statistically important in modelling. This variable will not contribute significantly."
   ]
  },
  {
   "cell_type": "markdown",
   "metadata": {},
   "source": [
    "### Chi-Square Test for independence between categorical variables "
   ]
  },
  {
   "cell_type": "code",
   "execution_count": 19,
   "metadata": {},
   "outputs": [],
   "source": [
    "from scipy.stats import chi2_contingency"
   ]
  },
  {
   "cell_type": "code",
   "execution_count": 20,
   "metadata": {},
   "outputs": [
    {
     "data": {
      "text/html": [
       "<div>\n",
       "<style scoped>\n",
       "    .dataframe tbody tr th:only-of-type {\n",
       "        vertical-align: middle;\n",
       "    }\n",
       "\n",
       "    .dataframe tbody tr th {\n",
       "        vertical-align: top;\n",
       "    }\n",
       "\n",
       "    .dataframe thead th {\n",
       "        text-align: right;\n",
       "    }\n",
       "</style>\n",
       "<table border=\"1\" class=\"dataframe\">\n",
       "  <thead>\n",
       "    <tr style=\"text-align: right;\">\n",
       "      <th>transmission</th>\n",
       "      <th>auto</th>\n",
       "      <th>mechanics</th>\n",
       "    </tr>\n",
       "    <tr>\n",
       "      <th>fuel_type</th>\n",
       "      <th></th>\n",
       "      <th></th>\n",
       "    </tr>\n",
       "  </thead>\n",
       "  <tbody>\n",
       "    <tr>\n",
       "      <th>diesel</th>\n",
       "      <td>3821</td>\n",
       "      <td>8877</td>\n",
       "    </tr>\n",
       "    <tr>\n",
       "      <th>petrol</th>\n",
       "      <td>8648</td>\n",
       "      <td>13670</td>\n",
       "    </tr>\n",
       "  </tbody>\n",
       "</table>\n",
       "</div>"
      ],
      "text/plain": [
       "transmission  auto  mechanics\n",
       "fuel_type                    \n",
       "diesel        3821       8877\n",
       "petrol        8648      13670"
      ]
     },
     "execution_count": 20,
     "metadata": {},
     "output_type": "execute_result"
    }
   ],
   "source": [
    "obs = pd.pivot_table(df[['fuel_type','transmission']],index = 'fuel_type',columns = 'transmission',aggfunc=len)\n",
    "obs"
   ]
  },
  {
   "cell_type": "code",
   "execution_count": 21,
   "metadata": {},
   "outputs": [],
   "source": [
    "chi2,p,dof,tb = chi2_contingency(obs)"
   ]
  },
  {
   "cell_type": "code",
   "execution_count": 22,
   "metadata": {},
   "outputs": [
    {
     "data": {
      "text/plain": [
       "(264.1895523006988, 0.0, 1)"
      ]
     },
     "execution_count": 22,
     "metadata": {},
     "output_type": "execute_result"
    }
   ],
   "source": [
    "chi2,round(p,5),dof"
   ]
  },
  {
   "cell_type": "code",
   "execution_count": 23,
   "metadata": {},
   "outputs": [
    {
     "data": {
      "text/plain": [
       "array([[ 4521.68614348,  8176.31385652],\n",
       "       [ 7947.31385652, 14370.68614348]])"
      ]
     },
     "execution_count": 23,
     "metadata": {},
     "output_type": "execute_result"
    }
   ],
   "source": [
    "tb"
   ]
  },
  {
   "cell_type": "code",
   "execution_count": 24,
   "metadata": {},
   "outputs": [
    {
     "data": {
      "text/plain": [
       "6.6348966010212145"
      ]
     },
     "execution_count": 24,
     "metadata": {},
     "output_type": "execute_result"
    }
   ],
   "source": [
    "stats.chi2.ppf(0.99,1)"
   ]
  },
  {
   "cell_type": "markdown",
   "metadata": {},
   "source": [
    "#### Remove variable 'make' and 'model' "
   ]
  },
  {
   "cell_type": "code",
   "execution_count": 25,
   "metadata": {},
   "outputs": [
    {
     "data": {
      "text/html": [
       "<div>\n",
       "<style scoped>\n",
       "    .dataframe tbody tr th:only-of-type {\n",
       "        vertical-align: middle;\n",
       "    }\n",
       "\n",
       "    .dataframe tbody tr th {\n",
       "        vertical-align: top;\n",
       "    }\n",
       "\n",
       "    .dataframe thead th {\n",
       "        text-align: right;\n",
       "    }\n",
       "</style>\n",
       "<table border=\"1\" class=\"dataframe\">\n",
       "  <thead>\n",
       "    <tr style=\"text-align: right;\">\n",
       "      <th></th>\n",
       "      <th>priceUSD</th>\n",
       "      <th>condition</th>\n",
       "      <th>mileage(kilometers)</th>\n",
       "      <th>fuel_type</th>\n",
       "      <th>volume(cm3)</th>\n",
       "      <th>color</th>\n",
       "      <th>transmission</th>\n",
       "      <th>drive_unit</th>\n",
       "      <th>segment</th>\n",
       "      <th>car_age</th>\n",
       "    </tr>\n",
       "  </thead>\n",
       "  <tbody>\n",
       "    <tr>\n",
       "      <th>0</th>\n",
       "      <td>565</td>\n",
       "      <td>with mileage</td>\n",
       "      <td>960015.0</td>\n",
       "      <td>petrol</td>\n",
       "      <td>2000.0</td>\n",
       "      <td>black</td>\n",
       "      <td>mechanics</td>\n",
       "      <td>front-wheel drive</td>\n",
       "      <td>D</td>\n",
       "      <td>27</td>\n",
       "    </tr>\n",
       "    <tr>\n",
       "      <th>1</th>\n",
       "      <td>5550</td>\n",
       "      <td>with mileage</td>\n",
       "      <td>172000.0</td>\n",
       "      <td>diesel</td>\n",
       "      <td>1400.0</td>\n",
       "      <td>silver</td>\n",
       "      <td>mechanics</td>\n",
       "      <td>front-wheel drive</td>\n",
       "      <td>M</td>\n",
       "      <td>12</td>\n",
       "    </tr>\n",
       "    <tr>\n",
       "      <th>2</th>\n",
       "      <td>8300</td>\n",
       "      <td>with mileage</td>\n",
       "      <td>223000.0</td>\n",
       "      <td>petrol</td>\n",
       "      <td>2500.0</td>\n",
       "      <td>purple</td>\n",
       "      <td>auto</td>\n",
       "      <td>front-wheel drive</td>\n",
       "      <td>D</td>\n",
       "      <td>12</td>\n",
       "    </tr>\n",
       "    <tr>\n",
       "      <th>3</th>\n",
       "      <td>3300</td>\n",
       "      <td>with mileage</td>\n",
       "      <td>140000.0</td>\n",
       "      <td>petrol</td>\n",
       "      <td>1200.0</td>\n",
       "      <td>blue</td>\n",
       "      <td>mechanics</td>\n",
       "      <td>front-wheel drive</td>\n",
       "      <td>A</td>\n",
       "      <td>15</td>\n",
       "    </tr>\n",
       "    <tr>\n",
       "      <th>4</th>\n",
       "      <td>2450</td>\n",
       "      <td>with damage</td>\n",
       "      <td>413000.0</td>\n",
       "      <td>diesel</td>\n",
       "      <td>2200.0</td>\n",
       "      <td>burgundy</td>\n",
       "      <td>mechanics</td>\n",
       "      <td>front-wheel drive</td>\n",
       "      <td>D</td>\n",
       "      <td>18</td>\n",
       "    </tr>\n",
       "  </tbody>\n",
       "</table>\n",
       "</div>"
      ],
      "text/plain": [
       "   priceUSD     condition  mileage(kilometers) fuel_type  volume(cm3)  \\\n",
       "0       565  with mileage             960015.0    petrol       2000.0   \n",
       "1      5550  with mileage             172000.0    diesel       1400.0   \n",
       "2      8300  with mileage             223000.0    petrol       2500.0   \n",
       "3      3300  with mileage             140000.0    petrol       1200.0   \n",
       "4      2450   with damage             413000.0    diesel       2200.0   \n",
       "\n",
       "      color transmission         drive_unit segment  car_age  \n",
       "0     black    mechanics  front-wheel drive       D       27  \n",
       "1    silver    mechanics  front-wheel drive       M       12  \n",
       "2    purple         auto  front-wheel drive       D       12  \n",
       "3      blue    mechanics  front-wheel drive       A       15  \n",
       "4  burgundy    mechanics  front-wheel drive       D       18  "
      ]
     },
     "execution_count": 25,
     "metadata": {},
     "output_type": "execute_result"
    }
   ],
   "source": [
    "final_df = df.drop(columns=['make','model'],axis=1)\n",
    "final_df.head()"
   ]
  },
  {
   "cell_type": "code",
   "execution_count": 26,
   "metadata": {},
   "outputs": [
    {
     "data": {
      "text/plain": [
       "(35016, 10)"
      ]
     },
     "execution_count": 26,
     "metadata": {},
     "output_type": "execute_result"
    }
   ],
   "source": [
    "final_df.shape"
   ]
  },
  {
   "cell_type": "code",
   "execution_count": 27,
   "metadata": {},
   "outputs": [
    {
     "data": {
      "text/html": [
       "<div>\n",
       "<style scoped>\n",
       "    .dataframe tbody tr th:only-of-type {\n",
       "        vertical-align: middle;\n",
       "    }\n",
       "\n",
       "    .dataframe tbody tr th {\n",
       "        vertical-align: top;\n",
       "    }\n",
       "\n",
       "    .dataframe thead th {\n",
       "        text-align: right;\n",
       "    }\n",
       "</style>\n",
       "<table border=\"1\" class=\"dataframe\">\n",
       "  <thead>\n",
       "    <tr style=\"text-align: right;\">\n",
       "      <th></th>\n",
       "      <th>priceUSD</th>\n",
       "      <th>mileage(kilometers)</th>\n",
       "      <th>volume(cm3)</th>\n",
       "      <th>car_age</th>\n",
       "      <th>condition_for parts</th>\n",
       "      <th>condition_with damage</th>\n",
       "      <th>condition_with mileage</th>\n",
       "      <th>fuel_type_diesel</th>\n",
       "      <th>fuel_type_petrol</th>\n",
       "      <th>color_black</th>\n",
       "      <th>...</th>\n",
       "      <th>drive_unit_rear drive</th>\n",
       "      <th>segment_A</th>\n",
       "      <th>segment_B</th>\n",
       "      <th>segment_C</th>\n",
       "      <th>segment_D</th>\n",
       "      <th>segment_E</th>\n",
       "      <th>segment_F</th>\n",
       "      <th>segment_J</th>\n",
       "      <th>segment_M</th>\n",
       "      <th>segment_S</th>\n",
       "    </tr>\n",
       "  </thead>\n",
       "  <tbody>\n",
       "    <tr>\n",
       "      <th>0</th>\n",
       "      <td>565</td>\n",
       "      <td>960015.0</td>\n",
       "      <td>2000.0</td>\n",
       "      <td>27</td>\n",
       "      <td>0</td>\n",
       "      <td>0</td>\n",
       "      <td>1</td>\n",
       "      <td>0</td>\n",
       "      <td>1</td>\n",
       "      <td>1</td>\n",
       "      <td>...</td>\n",
       "      <td>0</td>\n",
       "      <td>0</td>\n",
       "      <td>0</td>\n",
       "      <td>0</td>\n",
       "      <td>1</td>\n",
       "      <td>0</td>\n",
       "      <td>0</td>\n",
       "      <td>0</td>\n",
       "      <td>0</td>\n",
       "      <td>0</td>\n",
       "    </tr>\n",
       "    <tr>\n",
       "      <th>1</th>\n",
       "      <td>5550</td>\n",
       "      <td>172000.0</td>\n",
       "      <td>1400.0</td>\n",
       "      <td>12</td>\n",
       "      <td>0</td>\n",
       "      <td>0</td>\n",
       "      <td>1</td>\n",
       "      <td>1</td>\n",
       "      <td>0</td>\n",
       "      <td>0</td>\n",
       "      <td>...</td>\n",
       "      <td>0</td>\n",
       "      <td>0</td>\n",
       "      <td>0</td>\n",
       "      <td>0</td>\n",
       "      <td>0</td>\n",
       "      <td>0</td>\n",
       "      <td>0</td>\n",
       "      <td>0</td>\n",
       "      <td>1</td>\n",
       "      <td>0</td>\n",
       "    </tr>\n",
       "    <tr>\n",
       "      <th>2</th>\n",
       "      <td>8300</td>\n",
       "      <td>223000.0</td>\n",
       "      <td>2500.0</td>\n",
       "      <td>12</td>\n",
       "      <td>0</td>\n",
       "      <td>0</td>\n",
       "      <td>1</td>\n",
       "      <td>0</td>\n",
       "      <td>1</td>\n",
       "      <td>0</td>\n",
       "      <td>...</td>\n",
       "      <td>0</td>\n",
       "      <td>0</td>\n",
       "      <td>0</td>\n",
       "      <td>0</td>\n",
       "      <td>1</td>\n",
       "      <td>0</td>\n",
       "      <td>0</td>\n",
       "      <td>0</td>\n",
       "      <td>0</td>\n",
       "      <td>0</td>\n",
       "    </tr>\n",
       "    <tr>\n",
       "      <th>3</th>\n",
       "      <td>3300</td>\n",
       "      <td>140000.0</td>\n",
       "      <td>1200.0</td>\n",
       "      <td>15</td>\n",
       "      <td>0</td>\n",
       "      <td>0</td>\n",
       "      <td>1</td>\n",
       "      <td>0</td>\n",
       "      <td>1</td>\n",
       "      <td>0</td>\n",
       "      <td>...</td>\n",
       "      <td>0</td>\n",
       "      <td>1</td>\n",
       "      <td>0</td>\n",
       "      <td>0</td>\n",
       "      <td>0</td>\n",
       "      <td>0</td>\n",
       "      <td>0</td>\n",
       "      <td>0</td>\n",
       "      <td>0</td>\n",
       "      <td>0</td>\n",
       "    </tr>\n",
       "    <tr>\n",
       "      <th>4</th>\n",
       "      <td>2450</td>\n",
       "      <td>413000.0</td>\n",
       "      <td>2200.0</td>\n",
       "      <td>18</td>\n",
       "      <td>0</td>\n",
       "      <td>1</td>\n",
       "      <td>0</td>\n",
       "      <td>1</td>\n",
       "      <td>0</td>\n",
       "      <td>0</td>\n",
       "      <td>...</td>\n",
       "      <td>0</td>\n",
       "      <td>0</td>\n",
       "      <td>0</td>\n",
       "      <td>0</td>\n",
       "      <td>1</td>\n",
       "      <td>0</td>\n",
       "      <td>0</td>\n",
       "      <td>0</td>\n",
       "      <td>0</td>\n",
       "      <td>0</td>\n",
       "    </tr>\n",
       "  </tbody>\n",
       "</table>\n",
       "<p>5 rows × 37 columns</p>\n",
       "</div>"
      ],
      "text/plain": [
       "   priceUSD  mileage(kilometers)  volume(cm3)  car_age  condition_for parts  \\\n",
       "0       565             960015.0       2000.0       27                    0   \n",
       "1      5550             172000.0       1400.0       12                    0   \n",
       "2      8300             223000.0       2500.0       12                    0   \n",
       "3      3300             140000.0       1200.0       15                    0   \n",
       "4      2450             413000.0       2200.0       18                    0   \n",
       "\n",
       "   condition_with damage  condition_with mileage  fuel_type_diesel  \\\n",
       "0                      0                       1                 0   \n",
       "1                      0                       1                 1   \n",
       "2                      0                       1                 0   \n",
       "3                      0                       1                 0   \n",
       "4                      1                       0                 1   \n",
       "\n",
       "   fuel_type_petrol  color_black  ...  drive_unit_rear drive  segment_A  \\\n",
       "0                 1            1  ...                      0          0   \n",
       "1                 0            0  ...                      0          0   \n",
       "2                 1            0  ...                      0          0   \n",
       "3                 1            0  ...                      0          1   \n",
       "4                 0            0  ...                      0          0   \n",
       "\n",
       "   segment_B  segment_C  segment_D  segment_E  segment_F  segment_J  \\\n",
       "0          0          0          1          0          0          0   \n",
       "1          0          0          0          0          0          0   \n",
       "2          0          0          1          0          0          0   \n",
       "3          0          0          0          0          0          0   \n",
       "4          0          0          1          0          0          0   \n",
       "\n",
       "   segment_M  segment_S  \n",
       "0          0          0  \n",
       "1          1          0  \n",
       "2          0          0  \n",
       "3          0          0  \n",
       "4          0          0  \n",
       "\n",
       "[5 rows x 37 columns]"
      ]
     },
     "execution_count": 27,
     "metadata": {},
     "output_type": "execute_result"
    }
   ],
   "source": [
    "dummy_df = pd.get_dummies(final_df)\n",
    "dummy_df.head()"
   ]
  },
  {
   "cell_type": "markdown",
   "metadata": {},
   "source": [
    "#### Feature Importance"
   ]
  },
  {
   "cell_type": "code",
   "execution_count": 28,
   "metadata": {},
   "outputs": [],
   "source": [
    "X = dummy_df.iloc[:,1:]\n",
    "y = dummy_df.iloc[:,0]"
   ]
  },
  {
   "cell_type": "code",
   "execution_count": 29,
   "metadata": {},
   "outputs": [
    {
     "data": {
      "text/plain": [
       "ExtraTreesRegressor()"
      ]
     },
     "execution_count": 29,
     "metadata": {},
     "output_type": "execute_result"
    }
   ],
   "source": [
    "from sklearn.ensemble import ExtraTreesRegressor\n",
    "model_etr = ExtraTreesRegressor()\n",
    "model_etr.fit(X,y)"
   ]
  },
  {
   "cell_type": "code",
   "execution_count": 30,
   "metadata": {},
   "outputs": [
    {
     "data": {
      "text/plain": [
       "[0.04322,\n",
       " 0.10038,\n",
       " 0.43501,\n",
       " 5e-05,\n",
       " 0.00138,\n",
       " 0.00168,\n",
       " 0.01096,\n",
       " 0.01213,\n",
       " 0.00571,\n",
       " 0.00295,\n",
       " 0.00189,\n",
       " 0.00208,\n",
       " 0.00404,\n",
       " 0.0014,\n",
       " 0.00027,\n",
       " 0.0031,\n",
       " 0.00031,\n",
       " 0.00231,\n",
       " 0.00359,\n",
       " 0.00385,\n",
       " 0.00448,\n",
       " 0.09472,\n",
       " 0.08737,\n",
       " 0.0781,\n",
       " 0.03185,\n",
       " 0.00325,\n",
       " 0.00172,\n",
       " 0.00089,\n",
       " 0.00687,\n",
       " 0.00509,\n",
       " 0.00362,\n",
       " 0.00563,\n",
       " 0.00268,\n",
       " 0.021,\n",
       " 0.00424,\n",
       " 0.0122]"
      ]
     },
     "execution_count": 30,
     "metadata": {},
     "output_type": "execute_result"
    }
   ],
   "source": [
    "important_feature = [round(x,5) for x in model_etr.feature_importances_]\n",
    "important_feature"
   ]
  },
  {
   "cell_type": "code",
   "execution_count": 31,
   "metadata": {},
   "outputs": [
    {
     "data": {
      "image/png": "[encoded data removed]",
      "text/plain": [
       "<Figure size 432x288 with 1 Axes>"
      ]
     },
     "metadata": {
      "needs_background": "light"
     },
     "output_type": "display_data"
    }
   ],
   "source": [
    "#plot graph of feature importances for better visualization\n",
    "feat_importances = pd.Series(model_etr.feature_importances_, index=X.columns)\n",
    "feat_importances.nlargest(5).plot(kind='barh',color='brown')\n",
    "plt.title('Top 5 Important Fearures')\n",
    "plt.show()"
   ]
  },
  {
   "cell_type": "markdown",
   "metadata": {},
   "source": [
    "### Applying OLS model"
   ]
  },
  {
   "cell_type": "code",
   "execution_count": 32,
   "metadata": {},
   "outputs": [
    {
     "data": {
      "text/html": [
       "<div>\n",
       "<style scoped>\n",
       "    .dataframe tbody tr th:only-of-type {\n",
       "        vertical-align: middle;\n",
       "    }\n",
       "\n",
       "    .dataframe tbody tr th {\n",
       "        vertical-align: top;\n",
       "    }\n",
       "\n",
       "    .dataframe thead th {\n",
       "        text-align: right;\n",
       "    }\n",
       "</style>\n",
       "<table border=\"1\" class=\"dataframe\">\n",
       "  <thead>\n",
       "    <tr style=\"text-align: right;\">\n",
       "      <th></th>\n",
       "      <th>mileage(kilometers)</th>\n",
       "      <th>volume(cm3)</th>\n",
       "      <th>car_age</th>\n",
       "      <th>condition_for parts</th>\n",
       "      <th>condition_with damage</th>\n",
       "      <th>condition_with mileage</th>\n",
       "      <th>fuel_type_diesel</th>\n",
       "      <th>fuel_type_petrol</th>\n",
       "      <th>color_black</th>\n",
       "      <th>color_blue</th>\n",
       "      <th>...</th>\n",
       "      <th>drive_unit_rear drive</th>\n",
       "      <th>segment_A</th>\n",
       "      <th>segment_B</th>\n",
       "      <th>segment_C</th>\n",
       "      <th>segment_D</th>\n",
       "      <th>segment_E</th>\n",
       "      <th>segment_F</th>\n",
       "      <th>segment_J</th>\n",
       "      <th>segment_M</th>\n",
       "      <th>segment_S</th>\n",
       "    </tr>\n",
       "  </thead>\n",
       "  <tbody>\n",
       "    <tr>\n",
       "      <th>0</th>\n",
       "      <td>960015.0</td>\n",
       "      <td>2000.0</td>\n",
       "      <td>27</td>\n",
       "      <td>0</td>\n",
       "      <td>0</td>\n",
       "      <td>1</td>\n",
       "      <td>0</td>\n",
       "      <td>1</td>\n",
       "      <td>1</td>\n",
       "      <td>0</td>\n",
       "      <td>...</td>\n",
       "      <td>0</td>\n",
       "      <td>0</td>\n",
       "      <td>0</td>\n",
       "      <td>0</td>\n",
       "      <td>1</td>\n",
       "      <td>0</td>\n",
       "      <td>0</td>\n",
       "      <td>0</td>\n",
       "      <td>0</td>\n",
       "      <td>0</td>\n",
       "    </tr>\n",
       "    <tr>\n",
       "      <th>1</th>\n",
       "      <td>172000.0</td>\n",
       "      <td>1400.0</td>\n",
       "      <td>12</td>\n",
       "      <td>0</td>\n",
       "      <td>0</td>\n",
       "      <td>1</td>\n",
       "      <td>1</td>\n",
       "      <td>0</td>\n",
       "      <td>0</td>\n",
       "      <td>0</td>\n",
       "      <td>...</td>\n",
       "      <td>0</td>\n",
       "      <td>0</td>\n",
       "      <td>0</td>\n",
       "      <td>0</td>\n",
       "      <td>0</td>\n",
       "      <td>0</td>\n",
       "      <td>0</td>\n",
       "      <td>0</td>\n",
       "      <td>1</td>\n",
       "      <td>0</td>\n",
       "    </tr>\n",
       "    <tr>\n",
       "      <th>2</th>\n",
       "      <td>223000.0</td>\n",
       "      <td>2500.0</td>\n",
       "      <td>12</td>\n",
       "      <td>0</td>\n",
       "      <td>0</td>\n",
       "      <td>1</td>\n",
       "      <td>0</td>\n",
       "      <td>1</td>\n",
       "      <td>0</td>\n",
       "      <td>0</td>\n",
       "      <td>...</td>\n",
       "      <td>0</td>\n",
       "      <td>0</td>\n",
       "      <td>0</td>\n",
       "      <td>0</td>\n",
       "      <td>1</td>\n",
       "      <td>0</td>\n",
       "      <td>0</td>\n",
       "      <td>0</td>\n",
       "      <td>0</td>\n",
       "      <td>0</td>\n",
       "    </tr>\n",
       "    <tr>\n",
       "      <th>3</th>\n",
       "      <td>140000.0</td>\n",
       "      <td>1200.0</td>\n",
       "      <td>15</td>\n",
       "      <td>0</td>\n",
       "      <td>0</td>\n",
       "      <td>1</td>\n",
       "      <td>0</td>\n",
       "      <td>1</td>\n",
       "      <td>0</td>\n",
       "      <td>1</td>\n",
       "      <td>...</td>\n",
       "      <td>0</td>\n",
       "      <td>1</td>\n",
       "      <td>0</td>\n",
       "      <td>0</td>\n",
       "      <td>0</td>\n",
       "      <td>0</td>\n",
       "      <td>0</td>\n",
       "      <td>0</td>\n",
       "      <td>0</td>\n",
       "      <td>0</td>\n",
       "    </tr>\n",
       "    <tr>\n",
       "      <th>4</th>\n",
       "      <td>413000.0</td>\n",
       "      <td>2200.0</td>\n",
       "      <td>18</td>\n",
       "      <td>0</td>\n",
       "      <td>1</td>\n",
       "      <td>0</td>\n",
       "      <td>1</td>\n",
       "      <td>0</td>\n",
       "      <td>0</td>\n",
       "      <td>0</td>\n",
       "      <td>...</td>\n",
       "      <td>0</td>\n",
       "      <td>0</td>\n",
       "      <td>0</td>\n",
       "      <td>0</td>\n",
       "      <td>1</td>\n",
       "      <td>0</td>\n",
       "      <td>0</td>\n",
       "      <td>0</td>\n",
       "      <td>0</td>\n",
       "      <td>0</td>\n",
       "    </tr>\n",
       "  </tbody>\n",
       "</table>\n",
       "<p>5 rows × 36 columns</p>\n",
       "</div>"
      ],
      "text/plain": [
       "   mileage(kilometers)  volume(cm3)  car_age  condition_for parts  \\\n",
       "0             960015.0       2000.0       27                    0   \n",
       "1             172000.0       1400.0       12                    0   \n",
       "2             223000.0       2500.0       12                    0   \n",
       "3             140000.0       1200.0       15                    0   \n",
       "4             413000.0       2200.0       18                    0   \n",
       "\n",
       "   condition_with damage  condition_with mileage  fuel_type_diesel  \\\n",
       "0                      0                       1                 0   \n",
       "1                      0                       1                 1   \n",
       "2                      0                       1                 0   \n",
       "3                      0                       1                 0   \n",
       "4                      1                       0                 1   \n",
       "\n",
       "   fuel_type_petrol  color_black  color_blue  ...  drive_unit_rear drive  \\\n",
       "0                 1            1           0  ...                      0   \n",
       "1                 0            0           0  ...                      0   \n",
       "2                 1            0           0  ...                      0   \n",
       "3                 1            0           1  ...                      0   \n",
       "4                 0            0           0  ...                      0   \n",
       "\n",
       "   segment_A  segment_B  segment_C  segment_D  segment_E  segment_F  \\\n",
       "0          0          0          0          1          0          0   \n",
       "1          0          0          0          0          0          0   \n",
       "2          0          0          0          1          0          0   \n",
       "3          1          0          0          0          0          0   \n",
       "4          0          0          0          1          0          0   \n",
       "\n",
       "   segment_J  segment_M  segment_S  \n",
       "0          0          0          0  \n",
       "1          0          1          0  \n",
       "2          0          0          0  \n",
       "3          0          0          0  \n",
       "4          0          0          0  \n",
       "\n",
       "[5 rows x 36 columns]"
      ]
     },
     "execution_count": 32,
     "metadata": {},
     "output_type": "execute_result"
    }
   ],
   "source": [
    "X.head()"
   ]
  },
  {
   "cell_type": "code",
   "execution_count": 33,
   "metadata": {},
   "outputs": [],
   "source": [
    "# remove this feature because this is a dependent on car_age variable\n",
    "X_ = X.drop(columns=['mileage(kilometers)']) "
   ]
  },
  {
   "cell_type": "code",
   "execution_count": 34,
   "metadata": {},
   "outputs": [
    {
     "name": "stderr",
     "output_type": "stream",
     "text": [
      "/home/prem/anaconda3/lib/python3.7/site-packages/numpy/core/fromnumeric.py:2389: FutureWarning: Method .ptp is deprecated and will be removed in a future version. Use numpy.ptp instead.\n",
      "  return ptp(axis=axis, out=out, **kwargs)\n"
     ]
    },
    {
     "name": "stdout",
     "output_type": "stream",
     "text": [
      "                            OLS Regression Results                            \n",
      "==============================================================================\n",
      "Dep. Variable:               priceUSD   R-squared:                       0.830\n",
      "Model:                            OLS   Adj. R-squared:                  0.830\n",
      "Method:                 Least Squares   F-statistic:                     5911.\n",
      "Date:                Wed, 18 Nov 2020   Prob (F-statistic):               0.00\n",
      "Time:                        12:51:18   Log-Likelihood:                -19565.\n",
      "No. Observations:               35016   AIC:                         3.919e+04\n",
      "Df Residuals:                   34986   BIC:                         3.944e+04\n",
      "Df Model:                          29                                         \n",
      "Covariance Type:            nonrobust                                         \n",
      "=========================================================================================================\n",
      "                                            coef    std err          t      P>|t|      [0.025      0.975]\n",
      "---------------------------------------------------------------------------------------------------------\n",
      "const                                     3.4054      0.006    548.585      0.000       3.393       3.418\n",
      "volume(cm3)                            6.551e-05   2.98e-06     21.968      0.000    5.97e-05    7.14e-05\n",
      "car_age                                  -0.0954      0.000   -265.744      0.000      -0.096      -0.095\n",
      "condition_for parts                       0.6618      0.020     32.570      0.000       0.622       0.702\n",
      "condition_with damage                     0.9795      0.020     48.931      0.000       0.940       1.019\n",
      "condition_with mileage                    1.7641      0.011    159.059      0.000       1.742       1.786\n",
      "fuel_type_diesel                          1.7942      0.004    441.899      0.000       1.786       1.802\n",
      "fuel_type_petrol                          1.6112      0.004    411.844      0.000       1.604       1.619\n",
      "color_black                               0.3284      0.007     49.366      0.000       0.315       0.341\n",
      "color_blue                                0.2448      0.007     33.777      0.000       0.231       0.259\n",
      "color_brown                               0.3110      0.015     21.172      0.000       0.282       0.340\n",
      "color_burgundy                            0.1658      0.012     13.864      0.000       0.142       0.189\n",
      "color_gray                                0.2831      0.008     35.198      0.000       0.267       0.299\n",
      "color_green                               0.1536      0.009     16.323      0.000       0.135       0.172\n",
      "color_orange                              0.3499      0.036      9.683      0.000       0.279       0.421\n",
      "color_other                               0.2772      0.010     28.234      0.000       0.258       0.296\n",
      "color_purple                              0.1077      0.020      5.305      0.000       0.068       0.148\n",
      "color_red                                 0.2306      0.011     21.480      0.000       0.210       0.252\n",
      "color_silver                              0.2524      0.007     37.088      0.000       0.239       0.266\n",
      "color_white                               0.2788      0.008     33.652      0.000       0.263       0.295\n",
      "color_yellow                              0.4220      0.030     13.879      0.000       0.362       0.482\n",
      "transmission_auto                         1.8005      0.004    429.467      0.000       1.792       1.809\n",
      "transmission_mechanics                    1.6049      0.005    356.355      0.000       1.596       1.614\n",
      "drive_unit_all-wheel drive                0.9960      0.007    141.704      0.000       0.982       1.010\n",
      "drive_unit_front-wheel drive              0.6955      0.006    124.367      0.000       0.685       0.706\n",
      "drive_unit_part-time four-wheel drive     0.8380      0.009     92.786      0.000       0.820       0.856\n",
      "drive_unit_rear drive                     0.8759      0.007    122.072      0.000       0.862       0.890\n",
      "segment_A                                 0.1026      0.022      4.689      0.000       0.060       0.146\n",
      "segment_B                                -0.0670      0.009     -7.748      0.000      -0.084      -0.050\n",
      "segment_C                                 0.1579      0.007     23.495      0.000       0.145       0.171\n",
      "segment_D                                 0.3450      0.006     56.604      0.000       0.333       0.357\n",
      "segment_E                                 0.4738      0.008     63.138      0.000       0.459       0.489\n",
      "segment_F                                 0.5389      0.016     32.748      0.000       0.507       0.571\n",
      "segment_J                                 0.5251      0.009     61.765      0.000       0.508       0.542\n",
      "segment_M                                 0.5433      0.008     70.964      0.000       0.528       0.558\n",
      "segment_S                                 0.7856      0.018     44.231      0.000       0.751       0.820\n",
      "==============================================================================\n",
      "Omnibus:                     6021.346   Durbin-Watson:                   2.003\n",
      "Prob(Omnibus):                  0.000   Jarque-Bera (JB):           121508.168\n",
      "Skew:                           0.210   Prob(JB):                         0.00\n",
      "Kurtosis:                      12.116   Cond. No.                     1.78e+17\n",
      "==============================================================================\n",
      "\n",
      "Warnings:\n",
      "[1] Standard Errors assume that the covariance matrix of the errors is correctly specified.\n",
      "[2] The smallest eigenvalue is 5.79e-24. This might indicate that there are\n",
      "strong multicollinearity problems or that the design matrix is singular.\n"
     ]
    }
   ],
   "source": [
    "z = sm.add_constant(X_)\n",
    "logy = np.log(y)\n",
    "Model = sm.OLS(logy,z).fit()\n",
    "print(Model.summary())"
   ]
  },
  {
   "cell_type": "code",
   "execution_count": 35,
   "metadata": {},
   "outputs": [
    {
     "data": {
      "text/plain": [
       "array([-2.29783319, -0.90968399,  0.65151731, ...,  0.79309678,\n",
       "        0.20522515, -0.74815491])"
      ]
     },
     "execution_count": 35,
     "metadata": {},
     "output_type": "execute_result"
    }
   ],
   "source": [
    "E = Model.resid_pearson\n",
    "E"
   ]
  },
  {
   "cell_type": "code",
   "execution_count": 36,
   "metadata": {},
   "outputs": [],
   "source": [
    "y_pred = Model.predict(z)"
   ]
  },
  {
   "cell_type": "code",
   "execution_count": 37,
   "metadata": {},
   "outputs": [
    {
     "data": {
      "image/png": "[encoded data removed]",
      "text/plain": [
       "<Figure size 432x288 with 1 Axes>"
      ]
     },
     "metadata": {
      "needs_background": "light"
     },
     "output_type": "display_data"
    }
   ],
   "source": [
    "plt.scatter(y_pred,E,color='green')\n",
    "plt.show()"
   ]
  },
  {
   "cell_type": "code",
   "execution_count": 38,
   "metadata": {},
   "outputs": [
    {
     "data": {
      "image/png": "[encoded data removed]",
      "text/plain": [
       "<Figure size 432x288 with 1 Axes>"
      ]
     },
     "metadata": {
      "needs_background": "light"
     },
     "output_type": "display_data"
    }
   ],
   "source": [
    "plt.hist(E,bins=100)\n",
    "plt.show()"
   ]
  },
  {
   "cell_type": "markdown",
   "metadata": {},
   "source": [
    "### Linear Regression"
   ]
  },
  {
   "cell_type": "code",
   "execution_count": 39,
   "metadata": {},
   "outputs": [],
   "source": [
    "# Importing some necessary libraries\n",
    "from sklearn.model_selection import train_test_split\n",
    "from sklearn.linear_model import LinearRegression\n",
    "from sklearn.metrics import mean_absolute_error,mean_squared_error,r2_score"
   ]
  },
  {
   "cell_type": "code",
   "execution_count": 40,
   "metadata": {},
   "outputs": [
    {
     "name": "stdout",
     "output_type": "stream",
     "text": [
      "(28012, 36) (7004, 36) (28012,) (7004,)\n"
     ]
    }
   ],
   "source": [
    "# Split Train and Test Set\n",
    "X_train, X_test, y_train, y_test = train_test_split(X,logy,test_size = 0.2,random_state = 3)\n",
    "print(X_train.shape, X_test.shape, y_train.shape, y_test.shape)"
   ]
  },
  {
   "cell_type": "code",
   "execution_count": 41,
   "metadata": {},
   "outputs": [],
   "source": [
    "# setting intercept as true\n",
    "lgr = LinearRegression(fit_intercept = True)"
   ]
  },
  {
   "cell_type": "code",
   "execution_count": 42,
   "metadata": {},
   "outputs": [],
   "source": [
    "# fit the model\n",
    "model_lin1 = lgr.fit(X_train,y_train)"
   ]
  },
  {
   "cell_type": "code",
   "execution_count": 43,
   "metadata": {},
   "outputs": [],
   "source": [
    "# predicting model on test data\n",
    "car_predictions_lin1 = model_lin1.predict(X_test)"
   ]
  },
  {
   "cell_type": "code",
   "execution_count": 44,
   "metadata": {},
   "outputs": [
    {
     "name": "stdout",
     "output_type": "stream",
     "text": [
      "R2 for Train Data 0.8315483715577154\n",
      "R2 for Test Data 0.8268384469662166\n"
     ]
    }
   ],
   "source": [
    "# R Squared Value\n",
    "r2_lin_train1 = model_lin1.score(X_train,y_train)\n",
    "r2_lin_test1 = model_lin1.score(X_test,y_test)\n",
    "print('R2 for Train Data',r2_lin_train1)\n",
    "print('R2 for Test Data', r2_lin_test1)"
   ]
  },
  {
   "cell_type": "code",
   "execution_count": 45,
   "metadata": {},
   "outputs": [
    {
     "name": "stdout",
     "output_type": "stream",
     "text": [
      "MAE: 0.2965080898510988\n",
      "MSE: 0.180032867765465\n",
      "RMSE: 0.42430280197691955\n",
      "R2 Score: 0.8268384469662166\n"
     ]
    }
   ],
   "source": [
    "print('MAE:', mean_absolute_error(y_test, car_predictions_lin1))\n",
    "print('MSE:', mean_squared_error(y_test, car_predictions_lin1))\n",
    "print('RMSE:', np.sqrt(mean_squared_error(y_test, car_predictions_lin1)))\n",
    "print('R2 Score:', r2_score(y_test, car_predictions_lin1))"
   ]
  },
  {
   "cell_type": "code",
   "execution_count": 46,
   "metadata": {},
   "outputs": [
    {
     "data": {
      "image/png": "[encoded data removed]",
      "text/plain": [
       "<Figure size 432x288 with 1 Axes>"
      ]
     },
     "metadata": {
      "needs_background": "light"
     },
     "output_type": "display_data"
    }
   ],
   "source": [
    "# Residuals plot\n",
    "residual1  = y_test - car_predictions_lin1\n",
    "sns.regplot(x = car_predictions_lin1, y = residual1,scatter = True, fit_reg= False,color='red')\n",
    "plt.xlabel('Predicted value')\n",
    "plt.ylabel('residual')\n",
    "plt.title('Scatter plot between residual and predicted value')\n",
    "plt.show()"
   ]
  },
  {
   "cell_type": "code",
   "execution_count": 47,
   "metadata": {},
   "outputs": [
    {
     "data": {
      "image/png": "[encoded data removed]",
      "text/plain": [
       "<Figure size 432x288 with 1 Axes>"
      ]
     },
     "metadata": {
      "needs_background": "light"
     },
     "output_type": "display_data"
    }
   ],
   "source": [
    "plt.hist(residual1,bins=100)\n",
    "plt.xlabel('Residual')\n",
    "plt.ylabel('Frequency')\n",
    "plt.title('Histogram Plot for Residuals')\n",
    "plt.show()"
   ]
  },
  {
   "cell_type": "code",
   "execution_count": 48,
   "metadata": {},
   "outputs": [
    {
     "data": {
      "image/png": "[encoded data removed]",
      "text/plain": [
       "<Figure size 432x288 with 1 Axes>"
      ]
     },
     "metadata": {
      "needs_background": "light"
     },
     "output_type": "display_data"
    }
   ],
   "source": [
    "plt.scatter(y_test,car_predictions_lin1,c='orange')\n",
    "plt.xlabel('Original Y')\n",
    "plt.ylabel('Predicted Y')\n",
    "plt.title('Scatter Plot between y and y_predicted')\n",
    "plt.show()"
   ]
  },
  {
   "cell_type": "markdown",
   "metadata": {},
   "source": [
    "### Random Forest Regressor"
   ]
  },
  {
   "cell_type": "code",
   "execution_count": 49,
   "metadata": {},
   "outputs": [],
   "source": [
    "from sklearn.ensemble import RandomForestRegressor"
   ]
  },
  {
   "cell_type": "code",
   "execution_count": 50,
   "metadata": {},
   "outputs": [],
   "source": [
    "rf = RandomForestRegressor()"
   ]
  },
  {
   "cell_type": "code",
   "execution_count": 51,
   "metadata": {},
   "outputs": [],
   "source": [
    "from sklearn.model_selection import RandomizedSearchCV"
   ]
  },
  {
   "cell_type": "code",
   "execution_count": 52,
   "metadata": {},
   "outputs": [],
   "source": [
    "#Randomized Search CV\n",
    "\n",
    "# Number of trees in random forest\n",
    "n_estimators = [int(x) for x in np.linspace(start = 100, stop = 1200, num = 12)]\n",
    "\n",
    "# Number of features to consider at every split\n",
    "max_features = ['auto', 'sqrt']\n",
    "\n",
    "# Maximum number of levels in tree\n",
    "max_depth = [int(x) for x in np.linspace(15, 30, num = 4)]\n",
    "# max_depth.append(None)\n",
    "\n",
    "# Minimum number of samples required to split a node\n",
    "min_samples_split = [10, 15, 100]\n",
    "\n",
    "# Minimum number of samples required at each leaf node\n",
    "min_samples_leaf = [1, 2, 5, 10]"
   ]
  },
  {
   "cell_type": "code",
   "execution_count": 53,
   "metadata": {},
   "outputs": [
    {
     "name": "stdout",
     "output_type": "stream",
     "text": [
      "{'n_estimators': [100, 200, 300, 400, 500, 600, 700, 800, 900, 1000, 1100, 1200], 'max_features': ['auto', 'sqrt'], 'max_depth': [15, 20, 25, 30], 'min_samples_split': [10, 15, 100], 'min_samples_leaf': [1, 2, 5, 10]}\n"
     ]
    }
   ],
   "source": [
    "# Create the random grid\n",
    "random_grid = {'n_estimators': n_estimators,\n",
    "               'max_features': max_features,\n",
    "               'max_depth': max_depth,\n",
    "               'min_samples_split': min_samples_split,\n",
    "               'min_samples_leaf': min_samples_leaf}\n",
    "\n",
    "print(random_grid)"
   ]
  },
  {
   "cell_type": "code",
   "execution_count": 54,
   "metadata": {},
   "outputs": [],
   "source": [
    "# Random search of parameters, using 3 fold cross validation, \n",
    "# search across 100 different combinations\n",
    "rf_random = RandomizedSearchCV(estimator = rf, param_distributions = random_grid,scoring='neg_mean_squared_error', n_iter = 10, cv = 5, verbose=2, random_state=42, n_jobs = 1)"
   ]
  },
  {
   "cell_type": "code",
   "execution_count": 55,
   "metadata": {},
   "outputs": [
    {
     "name": "stdout",
     "output_type": "stream",
     "text": [
      "Fitting 5 folds for each of 10 candidates, totalling 50 fits\n",
      "[CV] n_estimators=1100, min_samples_split=10, min_samples_leaf=10, max_features=sqrt, max_depth=30 \n"
     ]
    },
    {
     "name": "stderr",
     "output_type": "stream",
     "text": [
      "[Parallel(n_jobs=1)]: Using backend SequentialBackend with 1 concurrent workers.\n"
     ]
    },
    {
     "name": "stdout",
     "output_type": "stream",
     "text": [
      "[CV]  n_estimators=1100, min_samples_split=10, min_samples_leaf=10, max_features=sqrt, max_depth=30, total=  24.2s\n",
      "[CV] n_estimators=1100, min_samples_split=10, min_samples_leaf=10, max_features=sqrt, max_depth=30 \n"
     ]
    },
    {
     "name": "stderr",
     "output_type": "stream",
     "text": [
      "[Parallel(n_jobs=1)]: Done   1 out of   1 | elapsed:   24.2s remaining:    0.0s\n"
     ]
    },
    {
     "name": "stdout",
     "output_type": "stream",
     "text": [
      "[CV]  n_estimators=1100, min_samples_split=10, min_samples_leaf=10, max_features=sqrt, max_depth=30, total=  21.8s\n",
      "[CV] n_estimators=1100, min_samples_split=10, min_samples_leaf=10, max_features=sqrt, max_depth=30 \n",
      "[CV]  n_estimators=1100, min_samples_split=10, min_samples_leaf=10, max_features=sqrt, max_depth=30, total=  21.7s\n",
      "[CV] n_estimators=1100, min_samples_split=10, min_samples_leaf=10, max_features=sqrt, max_depth=30 \n",
      "[CV]  n_estimators=1100, min_samples_split=10, min_samples_leaf=10, max_features=sqrt, max_depth=30, total=  21.8s\n",
      "[CV] n_estimators=1100, min_samples_split=10, min_samples_leaf=10, max_features=sqrt, max_depth=30 \n",
      "[CV]  n_estimators=1100, min_samples_split=10, min_samples_leaf=10, max_features=sqrt, max_depth=30, total=  21.9s\n",
      "[CV] n_estimators=900, min_samples_split=100, min_samples_leaf=10, max_features=sqrt, max_depth=25 \n",
      "[CV]  n_estimators=900, min_samples_split=100, min_samples_leaf=10, max_features=sqrt, max_depth=25, total=  15.9s\n",
      "[CV] n_estimators=900, min_samples_split=100, min_samples_leaf=10, max_features=sqrt, max_depth=25 \n",
      "[CV]  n_estimators=900, min_samples_split=100, min_samples_leaf=10, max_features=sqrt, max_depth=25, total=  15.9s\n",
      "[CV] n_estimators=900, min_samples_split=100, min_samples_leaf=10, max_features=sqrt, max_depth=25 \n",
      "[CV]  n_estimators=900, min_samples_split=100, min_samples_leaf=10, max_features=sqrt, max_depth=25, total=  15.7s\n",
      "[CV] n_estimators=900, min_samples_split=100, min_samples_leaf=10, max_features=sqrt, max_depth=25 \n",
      "[CV]  n_estimators=900, min_samples_split=100, min_samples_leaf=10, max_features=sqrt, max_depth=25, total=  15.7s\n",
      "[CV] n_estimators=900, min_samples_split=100, min_samples_leaf=10, max_features=sqrt, max_depth=25 \n",
      "[CV]  n_estimators=900, min_samples_split=100, min_samples_leaf=10, max_features=sqrt, max_depth=25, total=  15.7s\n",
      "[CV] n_estimators=300, min_samples_split=15, min_samples_leaf=10, max_features=sqrt, max_depth=30 \n",
      "[CV]  n_estimators=300, min_samples_split=15, min_samples_leaf=10, max_features=sqrt, max_depth=30, total=   6.0s\n",
      "[CV] n_estimators=300, min_samples_split=15, min_samples_leaf=10, max_features=sqrt, max_depth=30 \n",
      "[CV]  n_estimators=300, min_samples_split=15, min_samples_leaf=10, max_features=sqrt, max_depth=30, total=   6.0s\n",
      "[CV] n_estimators=300, min_samples_split=15, min_samples_leaf=10, max_features=sqrt, max_depth=30 \n",
      "[CV]  n_estimators=300, min_samples_split=15, min_samples_leaf=10, max_features=sqrt, max_depth=30, total=   6.0s\n",
      "[CV] n_estimators=300, min_samples_split=15, min_samples_leaf=10, max_features=sqrt, max_depth=30 \n",
      "[CV]  n_estimators=300, min_samples_split=15, min_samples_leaf=10, max_features=sqrt, max_depth=30, total=   6.0s\n",
      "[CV] n_estimators=300, min_samples_split=15, min_samples_leaf=10, max_features=sqrt, max_depth=30 \n",
      "[CV]  n_estimators=300, min_samples_split=15, min_samples_leaf=10, max_features=sqrt, max_depth=30, total=   6.0s\n",
      "[CV] n_estimators=400, min_samples_split=15, min_samples_leaf=5, max_features=sqrt, max_depth=30 \n",
      "[CV]  n_estimators=400, min_samples_split=15, min_samples_leaf=5, max_features=sqrt, max_depth=30, total=   8.9s\n",
      "[CV] n_estimators=400, min_samples_split=15, min_samples_leaf=5, max_features=sqrt, max_depth=30 \n",
      "[CV]  n_estimators=400, min_samples_split=15, min_samples_leaf=5, max_features=sqrt, max_depth=30, total=   8.9s\n",
      "[CV] n_estimators=400, min_samples_split=15, min_samples_leaf=5, max_features=sqrt, max_depth=30 \n",
      "[CV]  n_estimators=400, min_samples_split=15, min_samples_leaf=5, max_features=sqrt, max_depth=30, total=   8.9s\n",
      "[CV] n_estimators=400, min_samples_split=15, min_samples_leaf=5, max_features=sqrt, max_depth=30 \n",
      "[CV]  n_estimators=400, min_samples_split=15, min_samples_leaf=5, max_features=sqrt, max_depth=30, total=   8.9s\n",
      "[CV] n_estimators=400, min_samples_split=15, min_samples_leaf=5, max_features=sqrt, max_depth=30 \n",
      "[CV]  n_estimators=400, min_samples_split=15, min_samples_leaf=5, max_features=sqrt, max_depth=30, total=   9.0s\n",
      "[CV] n_estimators=100, min_samples_split=10, min_samples_leaf=2, max_features=sqrt, max_depth=30 \n",
      "[CV]  n_estimators=100, min_samples_split=10, min_samples_leaf=2, max_features=sqrt, max_depth=30, total=   2.7s\n",
      "[CV] n_estimators=100, min_samples_split=10, min_samples_leaf=2, max_features=sqrt, max_depth=30 \n",
      "[CV]  n_estimators=100, min_samples_split=10, min_samples_leaf=2, max_features=sqrt, max_depth=30, total=   2.7s\n",
      "[CV] n_estimators=100, min_samples_split=10, min_samples_leaf=2, max_features=sqrt, max_depth=30 \n",
      "[CV]  n_estimators=100, min_samples_split=10, min_samples_leaf=2, max_features=sqrt, max_depth=30, total=   2.7s\n",
      "[CV] n_estimators=100, min_samples_split=10, min_samples_leaf=2, max_features=sqrt, max_depth=30 \n",
      "[CV]  n_estimators=100, min_samples_split=10, min_samples_leaf=2, max_features=sqrt, max_depth=30, total=   2.6s\n",
      "[CV] n_estimators=100, min_samples_split=10, min_samples_leaf=2, max_features=sqrt, max_depth=30 \n",
      "[CV]  n_estimators=100, min_samples_split=10, min_samples_leaf=2, max_features=sqrt, max_depth=30, total=   2.7s\n",
      "[CV] n_estimators=200, min_samples_split=15, min_samples_leaf=10, max_features=auto, max_depth=15 \n",
      "[CV]  n_estimators=200, min_samples_split=15, min_samples_leaf=10, max_features=auto, max_depth=15, total=  16.8s\n",
      "[CV] n_estimators=200, min_samples_split=15, min_samples_leaf=10, max_features=auto, max_depth=15 \n",
      "[CV]  n_estimators=200, min_samples_split=15, min_samples_leaf=10, max_features=auto, max_depth=15, total=  16.7s\n",
      "[CV] n_estimators=200, min_samples_split=15, min_samples_leaf=10, max_features=auto, max_depth=15 \n",
      "[CV]  n_estimators=200, min_samples_split=15, min_samples_leaf=10, max_features=auto, max_depth=15, total=  18.1s\n",
      "[CV] n_estimators=200, min_samples_split=15, min_samples_leaf=10, max_features=auto, max_depth=15 \n",
      "[CV]  n_estimators=200, min_samples_split=15, min_samples_leaf=10, max_features=auto, max_depth=15, total=  16.7s\n",
      "[CV] n_estimators=200, min_samples_split=15, min_samples_leaf=10, max_features=auto, max_depth=15 \n",
      "[CV]  n_estimators=200, min_samples_split=15, min_samples_leaf=10, max_features=auto, max_depth=15, total=  16.7s\n",
      "[CV] n_estimators=1100, min_samples_split=100, min_samples_leaf=1, max_features=sqrt, max_depth=20 \n",
      "[CV]  n_estimators=1100, min_samples_split=100, min_samples_leaf=1, max_features=sqrt, max_depth=20, total=  21.2s\n",
      "[CV] n_estimators=1100, min_samples_split=100, min_samples_leaf=1, max_features=sqrt, max_depth=20 \n",
      "[CV]  n_estimators=1100, min_samples_split=100, min_samples_leaf=1, max_features=sqrt, max_depth=20, total=  21.9s\n",
      "[CV] n_estimators=1100, min_samples_split=100, min_samples_leaf=1, max_features=sqrt, max_depth=20 \n",
      "[CV]  n_estimators=1100, min_samples_split=100, min_samples_leaf=1, max_features=sqrt, max_depth=20, total=  21.9s\n",
      "[CV] n_estimators=1100, min_samples_split=100, min_samples_leaf=1, max_features=sqrt, max_depth=20 \n",
      "[CV]  n_estimators=1100, min_samples_split=100, min_samples_leaf=1, max_features=sqrt, max_depth=20, total=  23.0s\n",
      "[CV] n_estimators=1100, min_samples_split=100, min_samples_leaf=1, max_features=sqrt, max_depth=20 \n",
      "[CV]  n_estimators=1100, min_samples_split=100, min_samples_leaf=1, max_features=sqrt, max_depth=20, total=  21.6s\n",
      "[CV] n_estimators=700, min_samples_split=10, min_samples_leaf=2, max_features=auto, max_depth=20 \n",
      "[CV]  n_estimators=700, min_samples_split=10, min_samples_leaf=2, max_features=auto, max_depth=20, total= 1.2min\n",
      "[CV] n_estimators=700, min_samples_split=10, min_samples_leaf=2, max_features=auto, max_depth=20 \n",
      "[CV]  n_estimators=700, min_samples_split=10, min_samples_leaf=2, max_features=auto, max_depth=20, total= 1.2min\n",
      "[CV] n_estimators=700, min_samples_split=10, min_samples_leaf=2, max_features=auto, max_depth=20 \n",
      "[CV]  n_estimators=700, min_samples_split=10, min_samples_leaf=2, max_features=auto, max_depth=20, total= 1.3min\n",
      "[CV] n_estimators=700, min_samples_split=10, min_samples_leaf=2, max_features=auto, max_depth=20 \n",
      "[CV]  n_estimators=700, min_samples_split=10, min_samples_leaf=2, max_features=auto, max_depth=20, total= 1.3min\n",
      "[CV] n_estimators=700, min_samples_split=10, min_samples_leaf=2, max_features=auto, max_depth=20 \n",
      "[CV]  n_estimators=700, min_samples_split=10, min_samples_leaf=2, max_features=auto, max_depth=20, total= 1.3min\n",
      "[CV] n_estimators=400, min_samples_split=15, min_samples_leaf=5, max_features=auto, max_depth=15 \n"
     ]
    },
    {
     "name": "stdout",
     "output_type": "stream",
     "text": [
      "[CV]  n_estimators=400, min_samples_split=15, min_samples_leaf=5, max_features=auto, max_depth=15, total=  40.7s\n",
      "[CV] n_estimators=400, min_samples_split=15, min_samples_leaf=5, max_features=auto, max_depth=15 \n",
      "[CV]  n_estimators=400, min_samples_split=15, min_samples_leaf=5, max_features=auto, max_depth=15, total=  38.4s\n",
      "[CV] n_estimators=400, min_samples_split=15, min_samples_leaf=5, max_features=auto, max_depth=15 \n",
      "[CV]  n_estimators=400, min_samples_split=15, min_samples_leaf=5, max_features=auto, max_depth=15, total=  38.2s\n",
      "[CV] n_estimators=400, min_samples_split=15, min_samples_leaf=5, max_features=auto, max_depth=15 \n",
      "[CV]  n_estimators=400, min_samples_split=15, min_samples_leaf=5, max_features=auto, max_depth=15, total=  35.5s\n",
      "[CV] n_estimators=400, min_samples_split=15, min_samples_leaf=5, max_features=auto, max_depth=15 \n",
      "[CV]  n_estimators=400, min_samples_split=15, min_samples_leaf=5, max_features=auto, max_depth=15, total=  35.6s\n",
      "[CV] n_estimators=800, min_samples_split=10, min_samples_leaf=10, max_features=sqrt, max_depth=30 \n",
      "[CV]  n_estimators=800, min_samples_split=10, min_samples_leaf=10, max_features=sqrt, max_depth=30, total=  16.2s\n",
      "[CV] n_estimators=800, min_samples_split=10, min_samples_leaf=10, max_features=sqrt, max_depth=30 \n",
      "[CV]  n_estimators=800, min_samples_split=10, min_samples_leaf=10, max_features=sqrt, max_depth=30, total=  16.0s\n",
      "[CV] n_estimators=800, min_samples_split=10, min_samples_leaf=10, max_features=sqrt, max_depth=30 \n",
      "[CV]  n_estimators=800, min_samples_split=10, min_samples_leaf=10, max_features=sqrt, max_depth=30, total=  15.9s\n",
      "[CV] n_estimators=800, min_samples_split=10, min_samples_leaf=10, max_features=sqrt, max_depth=30 \n",
      "[CV]  n_estimators=800, min_samples_split=10, min_samples_leaf=10, max_features=sqrt, max_depth=30, total=  16.0s\n",
      "[CV] n_estimators=800, min_samples_split=10, min_samples_leaf=10, max_features=sqrt, max_depth=30 \n",
      "[CV]  n_estimators=800, min_samples_split=10, min_samples_leaf=10, max_features=sqrt, max_depth=30, total=  20.4s\n"
     ]
    },
    {
     "name": "stderr",
     "output_type": "stream",
     "text": [
      "[Parallel(n_jobs=1)]: Done  50 out of  50 | elapsed: 18.7min finished\n"
     ]
    },
    {
     "data": {
      "text/plain": [
       "RandomizedSearchCV(cv=5, estimator=RandomForestRegressor(), n_jobs=1,\n",
       "                   param_distributions={'max_depth': [15, 20, 25, 30],\n",
       "                                        'max_features': ['auto', 'sqrt'],\n",
       "                                        'min_samples_leaf': [1, 2, 5, 10],\n",
       "                                        'min_samples_split': [10, 15, 100],\n",
       "                                        'n_estimators': [100, 200, 300, 400,\n",
       "                                                         500, 600, 700, 800,\n",
       "                                                         900, 1000, 1100,\n",
       "                                                         1200]},\n",
       "                   random_state=42, scoring='neg_mean_squared_error',\n",
       "                   verbose=2)"
      ]
     },
     "execution_count": 55,
     "metadata": {},
     "output_type": "execute_result"
    }
   ],
   "source": [
    "rf_random.fit(X_train,y_train)"
   ]
  },
  {
   "cell_type": "code",
   "execution_count": 56,
   "metadata": {},
   "outputs": [
    {
     "data": {
      "text/plain": [
       "{'n_estimators': 700,\n",
       " 'min_samples_split': 10,\n",
       " 'min_samples_leaf': 2,\n",
       " 'max_features': 'auto',\n",
       " 'max_depth': 20}"
      ]
     },
     "execution_count": 56,
     "metadata": {},
     "output_type": "execute_result"
    }
   ],
   "source": [
    "rf_random.best_params_"
   ]
  },
  {
   "cell_type": "code",
   "execution_count": 57,
   "metadata": {},
   "outputs": [
    {
     "data": {
      "text/plain": [
       "-0.1254893570301589"
      ]
     },
     "execution_count": 57,
     "metadata": {},
     "output_type": "execute_result"
    }
   ],
   "source": [
    "rf_random.best_score_"
   ]
  },
  {
   "cell_type": "code",
   "execution_count": 58,
   "metadata": {},
   "outputs": [],
   "source": [
    "y_pred = rf_random.predict(X_test)"
   ]
  },
  {
   "cell_type": "code",
   "execution_count": 59,
   "metadata": {},
   "outputs": [
    {
     "name": "stdout",
     "output_type": "stream",
     "text": [
      "MAE: 0.24154395571355206\n",
      "MSE: 0.11803658357483256\n",
      "RMSE: 0.34356452607164284\n",
      "R2 Score: 0.8864685188859676\n"
     ]
    }
   ],
   "source": [
    "print('MAE:', mean_absolute_error(y_test, y_pred))\n",
    "print('MSE:', mean_squared_error(y_test, y_pred))\n",
    "print('RMSE:', np.sqrt(mean_squared_error(y_test, y_pred)))\n",
    "print('R2 Score:', r2_score(y_test, y_pred))"
   ]
  },
  {
   "cell_type": "code",
   "execution_count": 60,
   "metadata": {},
   "outputs": [
    {
     "data": {
      "image/png": "[encoded data removed]",
      "text/plain": [
       "<Figure size 432x288 with 1 Axes>"
      ]
     },
     "metadata": {
      "needs_background": "light"
     },
     "output_type": "display_data"
    }
   ],
   "source": [
    "# Residuals plot\n",
    "residuals  = y_test - y_pred\n",
    "sns.regplot(x = y_pred, y = residuals,scatter = True, fit_reg= False,color='red')\n",
    "plt.xlabel('Predicted y')\n",
    "plt.ylabel('residuals')\n",
    "plt.title('Scatter plot between Predicted and residuals')\n",
    "plt.show()"
   ]
  },
  {
   "cell_type": "code",
   "execution_count": 61,
   "metadata": {},
   "outputs": [
    {
     "data": {
      "image/png": "[encoded data removed]",
      "text/plain": [
       "<Figure size 432x288 with 1 Axes>"
      ]
     },
     "metadata": {
      "needs_background": "light"
     },
     "output_type": "display_data"
    }
   ],
   "source": [
    "sns.distplot(residuals)\n",
    "plt.xlabel('Residuals')\n",
    "plt.ylabel('f(Residuals)')\n",
    "plt.title('Distribution of Residuals')\n",
    "plt.show()"
   ]
  },
  {
   "cell_type": "code",
   "execution_count": 62,
   "metadata": {},
   "outputs": [
    {
     "data": {
      "image/png": "[encoded data removed]",
      "text/plain": [
       "<Figure size 432x288 with 1 Axes>"
      ]
     },
     "metadata": {
      "needs_background": "light"
     },
     "output_type": "display_data"
    }
   ],
   "source": [
    "plt.scatter(y_test,y_pred,c='orange')\n",
    "plt.xlabel('Original Y')\n",
    "plt.ylabel('Predicted Y')\n",
    "plt.title('Scatter Plot between y and y_predicted')\n",
    "plt.show()"
   ]
  },
  {
   "cell_type": "markdown",
   "metadata": {},
   "source": [
    "### Conclusion: \n",
    "If we compare all models with or without missing values then we get better performance in random forest model without missing values. So, we use this model in our final deployment. "
   ]
  },
  {
   "cell_type": "code",
   "execution_count": 63,
   "metadata": {},
   "outputs": [],
   "source": [
    "import pickle\n",
    "# open a file, where you want to store the data in wb(write-binary) mode \n",
    "file = open('car_price_rf_model.pkl', 'wb')\n",
    "\n",
    "# dump information to that file\n",
    "pickle.dump(rf_random, file)"
   ]
  },
  {
   "cell_type": "code",
   "execution_count": null,
   "metadata": {},
   "outputs": [],
   "source": []
  }
 ],
 "metadata": {
  "kernelspec": {
   "display_name": "Python 3",
   "language": "python",
   "name": "python3"
  },
  "language_info": {
   "codemirror_mode": {
    "name": "ipython",
    "version": 3
   },
   "file_extension": ".py",
   "mimetype": "text/x-python",
   "name": "python",
   "nbconvert_exporter": "python",
   "pygments_lexer": "ipython3",
   "version": "3.7.3"
  }
 },
 "nbformat": 4,
 "nbformat_minor": 2
}
