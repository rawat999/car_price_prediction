{
 "cells": [
  {
   "cell_type": "markdown",
   "metadata": {},
   "source": [
    "# Car Price Prediction with imputed missing values"
   ]
  },
  {
   "cell_type": "code",
   "execution_count": 1,
   "metadata": {},
   "outputs": [],
   "source": [
    "#importing necessary libraries\n",
    "import pandas as pd\n",
    "import numpy as np\n",
    "\n",
    "import matplotlib.pyplot as plt\n",
    "import seaborn as sns\n",
    "%matplotlib inline"
   ]
  },
  {
   "cell_type": "code",
   "execution_count": 2,
   "metadata": {},
   "outputs": [],
   "source": [
    "# Reading CSV file\n",
    "car_df = pd.read_csv(\"cars_price.csv\")"
   ]
  },
  {
   "cell_type": "code",
   "execution_count": 3,
   "metadata": {},
   "outputs": [],
   "source": [
    "# Creating Copy\n",
    "car_orig = car_df.copy()"
   ]
  },
  {
   "cell_type": "code",
   "execution_count": 4,
   "metadata": {},
   "outputs": [
    {
     "name": "stdout",
     "output_type": "stream",
     "text": [
      "<class 'pandas.core.frame.DataFrame'>\n",
      "RangeIndex: 40000 entries, 0 to 39999\n",
      "Data columns (total 13 columns):\n",
      "Unnamed: 0             40000 non-null int64\n",
      "make                   40000 non-null object\n",
      "model                  40000 non-null object\n",
      "priceUSD               40000 non-null int64\n",
      "year                   40000 non-null int64\n",
      "condition              40000 non-null object\n",
      "mileage(kilometers)    40000 non-null float64\n",
      "fuel_type              40000 non-null object\n",
      "volume(cm3)            39970 non-null float64\n",
      "color                  40000 non-null object\n",
      "transmission           40000 non-null object\n",
      "drive_unit             38655 non-null object\n",
      "segment                36245 non-null object\n",
      "dtypes: float64(2), int64(3), object(8)\n",
      "memory usage: 4.0+ MB\n"
     ]
    }
   ],
   "source": [
    "# Looking at structure of the dataset\n",
    "car_df.info()"
   ]
  },
  {
   "cell_type": "markdown",
   "metadata": {},
   "source": [
    "<b> Clearly here, we can see that there is some NULL values in volume, drive_units and segment variables. </b>"
   ]
  },
  {
   "cell_type": "code",
   "execution_count": 5,
   "metadata": {},
   "outputs": [
    {
     "data": {
      "text/plain": [
       "Index(['Unnamed: 0', 'make', 'model', 'priceUSD', 'year', 'condition',\n",
       "       'mileage(kilometers)', 'fuel_type', 'volume(cm3)', 'color',\n",
       "       'transmission', 'drive_unit', 'segment'],\n",
       "      dtype='object')"
      ]
     },
     "execution_count": 5,
     "metadata": {},
     "output_type": "execute_result"
    }
   ],
   "source": [
    "car_df.columns"
   ]
  },
  {
   "cell_type": "markdown",
   "metadata": {},
   "source": [
    "#### Drop Unwanted column"
   ]
  },
  {
   "cell_type": "code",
   "execution_count": 6,
   "metadata": {},
   "outputs": [],
   "source": [
    "car_df.drop(columns = ['Unnamed: 0'],inplace = True)"
   ]
  },
  {
   "cell_type": "code",
   "execution_count": 7,
   "metadata": {},
   "outputs": [
    {
     "data": {
      "text/html": [
       "<div>\n",
       "<style scoped>\n",
       "    .dataframe tbody tr th:only-of-type {\n",
       "        vertical-align: middle;\n",
       "    }\n",
       "\n",
       "    .dataframe tbody tr th {\n",
       "        vertical-align: top;\n",
       "    }\n",
       "\n",
       "    .dataframe thead th {\n",
       "        text-align: right;\n",
       "    }\n",
       "</style>\n",
       "<table border=\"1\" class=\"dataframe\">\n",
       "  <thead>\n",
       "    <tr style=\"text-align: right;\">\n",
       "      <th></th>\n",
       "      <th>priceUSD</th>\n",
       "      <th>year</th>\n",
       "      <th>mileage(kilometers)</th>\n",
       "      <th>volume(cm3)</th>\n",
       "    </tr>\n",
       "  </thead>\n",
       "  <tbody>\n",
       "    <tr>\n",
       "      <th>count</th>\n",
       "      <td>40000.000</td>\n",
       "      <td>40000.000</td>\n",
       "      <td>40000.000</td>\n",
       "      <td>39970.000</td>\n",
       "    </tr>\n",
       "    <tr>\n",
       "      <th>mean</th>\n",
       "      <td>7430.384</td>\n",
       "      <td>2003.486</td>\n",
       "      <td>243433.200</td>\n",
       "      <td>2103.202</td>\n",
       "    </tr>\n",
       "    <tr>\n",
       "      <th>std</th>\n",
       "      <td>8338.242</td>\n",
       "      <td>8.115</td>\n",
       "      <td>316703.267</td>\n",
       "      <td>938.725</td>\n",
       "    </tr>\n",
       "    <tr>\n",
       "      <th>min</th>\n",
       "      <td>95.000</td>\n",
       "      <td>1938.000</td>\n",
       "      <td>0.000</td>\n",
       "      <td>500.000</td>\n",
       "    </tr>\n",
       "    <tr>\n",
       "      <th>25%</th>\n",
       "      <td>2350.000</td>\n",
       "      <td>1998.000</td>\n",
       "      <td>137000.000</td>\n",
       "      <td>1600.000</td>\n",
       "    </tr>\n",
       "    <tr>\n",
       "      <th>50%</th>\n",
       "      <td>5350.000</td>\n",
       "      <td>2004.000</td>\n",
       "      <td>228000.000</td>\n",
       "      <td>1995.000</td>\n",
       "    </tr>\n",
       "    <tr>\n",
       "      <th>75%</th>\n",
       "      <td>9850.000</td>\n",
       "      <td>2010.000</td>\n",
       "      <td>308761.000</td>\n",
       "      <td>2300.000</td>\n",
       "    </tr>\n",
       "    <tr>\n",
       "      <th>max</th>\n",
       "      <td>195000.000</td>\n",
       "      <td>2019.000</td>\n",
       "      <td>9999999.000</td>\n",
       "      <td>20000.000</td>\n",
       "    </tr>\n",
       "  </tbody>\n",
       "</table>\n",
       "</div>"
      ],
      "text/plain": [
       "        priceUSD      year  mileage(kilometers)  volume(cm3)\n",
       "count  40000.000 40000.000            40000.000    39970.000\n",
       "mean    7430.384  2003.486           243433.200     2103.202\n",
       "std     8338.242     8.115           316703.267      938.725\n",
       "min       95.000  1938.000                0.000      500.000\n",
       "25%     2350.000  1998.000           137000.000     1600.000\n",
       "50%     5350.000  2004.000           228000.000     1995.000\n",
       "75%     9850.000  2010.000           308761.000     2300.000\n",
       "max   195000.000  2019.000          9999999.000    20000.000"
      ]
     },
     "execution_count": 7,
     "metadata": {},
     "output_type": "execute_result"
    }
   ],
   "source": [
    "# Summarizing the dataset\n",
    "pd.set_option('display.float_format',lambda x: '%.3f' % x) # converted to 3 decimal places of float value\n",
    "car_df.describe()"
   ]
  },
  {
   "cell_type": "code",
   "execution_count": 8,
   "metadata": {},
   "outputs": [],
   "source": [
    "# Removing Duplicate data\n",
    "car_df.drop_duplicates(keep = 'first',inplace = True)"
   ]
  },
  {
   "cell_type": "code",
   "execution_count": 9,
   "metadata": {},
   "outputs": [
    {
     "data": {
      "text/plain": [
       "(39951, 12)"
      ]
     },
     "execution_count": 9,
     "metadata": {},
     "output_type": "execute_result"
    }
   ],
   "source": [
    "car_df.shape"
   ]
  },
  {
   "cell_type": "markdown",
   "metadata": {},
   "source": [
    "<b> 49 Duplicates </b> are removed from the data."
   ]
  },
  {
   "cell_type": "markdown",
   "metadata": {},
   "source": [
    "### Data Cleaning"
   ]
  },
  {
   "cell_type": "code",
   "execution_count": 10,
   "metadata": {},
   "outputs": [
    {
     "data": {
      "text/plain": [
       "make                      0\n",
       "model                     0\n",
       "priceUSD                  0\n",
       "year                      0\n",
       "condition                 0\n",
       "mileage(kilometers)       0\n",
       "fuel_type                 0\n",
       "volume(cm3)              30\n",
       "color                     0\n",
       "transmission              0\n",
       "drive_unit             1344\n",
       "segment                3752\n",
       "dtype: int64"
      ]
     },
     "execution_count": 10,
     "metadata": {},
     "output_type": "execute_result"
    }
   ],
   "source": [
    "# Check number of missing values in each feature\n",
    "car_df.isnull().sum()"
   ]
  },
  {
   "cell_type": "markdown",
   "metadata": {},
   "source": [
    "<li> Missing Values:\n",
    "    <ol> volume(cm3) : 30 </ol>\n",
    "    <ol> drive_unit : 1344 </ol>\n",
    "    <ol> segment : 3752 </ol>\n",
    "</li>"
   ]
  },
  {
   "cell_type": "markdown",
   "metadata": {},
   "source": [
    "### Impute missing values"
   ]
  },
  {
   "cell_type": "markdown",
   "metadata": {},
   "source": [
    "#### For Quantitative Feature: volume(cm3)"
   ]
  },
  {
   "cell_type": "code",
   "execution_count": 11,
   "metadata": {},
   "outputs": [],
   "source": [
    "def impute_nan(df,variable,impute_value):\n",
    "    df[variable+'_imputed'] = df[variable].fillna(impute_value)"
   ]
  },
  {
   "cell_type": "code",
   "execution_count": 12,
   "metadata": {},
   "outputs": [],
   "source": [
    "# imputing nan value with median\n",
    "impute_nan(car_df,'volume(cm3)',car_df['volume(cm3)'].median())"
   ]
  },
  {
   "cell_type": "code",
   "execution_count": 13,
   "metadata": {},
   "outputs": [
    {
     "data": {
      "text/plain": [
       "1995.0"
      ]
     },
     "execution_count": 13,
     "metadata": {},
     "output_type": "execute_result"
    }
   ],
   "source": [
    "car_df['volume(cm3)'].median()"
   ]
  },
  {
   "cell_type": "code",
   "execution_count": 14,
   "metadata": {},
   "outputs": [
    {
     "data": {
      "text/html": [
       "<div>\n",
       "<style scoped>\n",
       "    .dataframe tbody tr th:only-of-type {\n",
       "        vertical-align: middle;\n",
       "    }\n",
       "\n",
       "    .dataframe tbody tr th {\n",
       "        vertical-align: top;\n",
       "    }\n",
       "\n",
       "    .dataframe thead th {\n",
       "        text-align: right;\n",
       "    }\n",
       "</style>\n",
       "<table border=\"1\" class=\"dataframe\">\n",
       "  <thead>\n",
       "    <tr style=\"text-align: right;\">\n",
       "      <th></th>\n",
       "      <th>make</th>\n",
       "      <th>model</th>\n",
       "      <th>priceUSD</th>\n",
       "      <th>year</th>\n",
       "      <th>condition</th>\n",
       "      <th>mileage(kilometers)</th>\n",
       "      <th>fuel_type</th>\n",
       "      <th>volume(cm3)</th>\n",
       "      <th>color</th>\n",
       "      <th>transmission</th>\n",
       "      <th>drive_unit</th>\n",
       "      <th>segment</th>\n",
       "      <th>volume(cm3)_imputed</th>\n",
       "    </tr>\n",
       "  </thead>\n",
       "  <tbody>\n",
       "    <tr>\n",
       "      <th>0</th>\n",
       "      <td>honda</td>\n",
       "      <td>accord</td>\n",
       "      <td>565</td>\n",
       "      <td>1993</td>\n",
       "      <td>with mileage</td>\n",
       "      <td>960015.000</td>\n",
       "      <td>petrol</td>\n",
       "      <td>2000.000</td>\n",
       "      <td>black</td>\n",
       "      <td>mechanics</td>\n",
       "      <td>front-wheel drive</td>\n",
       "      <td>D</td>\n",
       "      <td>2000.000</td>\n",
       "    </tr>\n",
       "    <tr>\n",
       "      <th>1</th>\n",
       "      <td>ford</td>\n",
       "      <td>fusion</td>\n",
       "      <td>5550</td>\n",
       "      <td>2008</td>\n",
       "      <td>with mileage</td>\n",
       "      <td>172000.000</td>\n",
       "      <td>diesel</td>\n",
       "      <td>1400.000</td>\n",
       "      <td>silver</td>\n",
       "      <td>mechanics</td>\n",
       "      <td>front-wheel drive</td>\n",
       "      <td>M</td>\n",
       "      <td>1400.000</td>\n",
       "    </tr>\n",
       "    <tr>\n",
       "      <th>2</th>\n",
       "      <td>nissan</td>\n",
       "      <td>teana</td>\n",
       "      <td>8300</td>\n",
       "      <td>2008</td>\n",
       "      <td>with mileage</td>\n",
       "      <td>223000.000</td>\n",
       "      <td>petrol</td>\n",
       "      <td>2500.000</td>\n",
       "      <td>purple</td>\n",
       "      <td>auto</td>\n",
       "      <td>front-wheel drive</td>\n",
       "      <td>D</td>\n",
       "      <td>2500.000</td>\n",
       "    </tr>\n",
       "    <tr>\n",
       "      <th>3</th>\n",
       "      <td>volkswagen</td>\n",
       "      <td>fox</td>\n",
       "      <td>3300</td>\n",
       "      <td>2005</td>\n",
       "      <td>with mileage</td>\n",
       "      <td>140000.000</td>\n",
       "      <td>petrol</td>\n",
       "      <td>1200.000</td>\n",
       "      <td>blue</td>\n",
       "      <td>mechanics</td>\n",
       "      <td>front-wheel drive</td>\n",
       "      <td>A</td>\n",
       "      <td>1200.000</td>\n",
       "    </tr>\n",
       "    <tr>\n",
       "      <th>4</th>\n",
       "      <td>nissan</td>\n",
       "      <td>primera</td>\n",
       "      <td>2450</td>\n",
       "      <td>2002</td>\n",
       "      <td>with damage</td>\n",
       "      <td>413000.000</td>\n",
       "      <td>diesel</td>\n",
       "      <td>2200.000</td>\n",
       "      <td>burgundy</td>\n",
       "      <td>mechanics</td>\n",
       "      <td>front-wheel drive</td>\n",
       "      <td>D</td>\n",
       "      <td>2200.000</td>\n",
       "    </tr>\n",
       "  </tbody>\n",
       "</table>\n",
       "</div>"
      ],
      "text/plain": [
       "         make    model  priceUSD  year     condition  mileage(kilometers)  \\\n",
       "0       honda   accord       565  1993  with mileage           960015.000   \n",
       "1        ford   fusion      5550  2008  with mileage           172000.000   \n",
       "2      nissan    teana      8300  2008  with mileage           223000.000   \n",
       "3  volkswagen      fox      3300  2005  with mileage           140000.000   \n",
       "4      nissan  primera      2450  2002   with damage           413000.000   \n",
       "\n",
       "  fuel_type  volume(cm3)     color transmission         drive_unit segment  \\\n",
       "0    petrol     2000.000     black    mechanics  front-wheel drive       D   \n",
       "1    diesel     1400.000    silver    mechanics  front-wheel drive       M   \n",
       "2    petrol     2500.000    purple         auto  front-wheel drive       D   \n",
       "3    petrol     1200.000      blue    mechanics  front-wheel drive       A   \n",
       "4    diesel     2200.000  burgundy    mechanics  front-wheel drive       D   \n",
       "\n",
       "   volume(cm3)_imputed  \n",
       "0             2000.000  \n",
       "1             1400.000  \n",
       "2             2500.000  \n",
       "3             1200.000  \n",
       "4             2200.000  "
      ]
     },
     "execution_count": 14,
     "metadata": {},
     "output_type": "execute_result"
    }
   ],
   "source": [
    "car_df.head()"
   ]
  },
  {
   "cell_type": "code",
   "execution_count": 15,
   "metadata": {},
   "outputs": [
    {
     "name": "stdout",
     "output_type": "stream",
     "text": [
      "Standard Deviation with NAN values:  938.9961316217295\n",
      "Standard Deviation After imputing NAN value:  938.6481874410559\n"
     ]
    }
   ],
   "source": [
    "print('Standard Deviation with NAN values: ',car_df['volume(cm3)'].std())\n",
    "print('Standard Deviation After imputing NAN value: ',car_df['volume(cm3)_imputed'].std())"
   ]
  },
  {
   "cell_type": "code",
   "execution_count": 16,
   "metadata": {},
   "outputs": [
    {
     "data": {
      "image/png": "[encoded data removed]",
      "text/plain": [
       "<Figure size 432x288 with 1 Axes>"
      ]
     },
     "metadata": {
      "needs_background": "light"
     },
     "output_type": "display_data"
    }
   ],
   "source": [
    "fig = plt.figure()\n",
    "ax = fig.add_subplot(111)\n",
    "car_df['volume(cm3)'].plot(kind='kde', ax=ax)\n",
    "car_df['volume(cm3)_imputed'].plot(kind='kde', ax=ax, color='red')\n",
    "lines, labels = ax.get_legend_handles_labels()\n",
    "ax.legend(lines, labels, loc='best')\n",
    "plt.show()"
   ]
  },
  {
   "cell_type": "markdown",
   "metadata": {},
   "source": [
    "Note: here, negligible distortion in the variable volume after imputing missing values. So, median will good for imputing missing values of volume."
   ]
  },
  {
   "cell_type": "markdown",
   "metadata": {},
   "source": [
    "#### For Qualititative Feature "
   ]
  },
  {
   "cell_type": "code",
   "execution_count": 17,
   "metadata": {},
   "outputs": [
    {
     "data": {
      "text/plain": [
       "segment               0.094\n",
       "drive_unit            0.034\n",
       "volume(cm3)           0.001\n",
       "volume(cm3)_imputed   0.000\n",
       "transmission          0.000\n",
       "color                 0.000\n",
       "fuel_type             0.000\n",
       "mileage(kilometers)   0.000\n",
       "condition             0.000\n",
       "year                  0.000\n",
       "priceUSD              0.000\n",
       "model                 0.000\n",
       "make                  0.000\n",
       "dtype: float64"
      ]
     },
     "execution_count": 17,
     "metadata": {},
     "output_type": "execute_result"
    }
   ],
   "source": [
    "car_df.isnull().mean().sort_values(ascending=False)"
   ]
  },
  {
   "cell_type": "markdown",
   "metadata": {},
   "source": [
    "Note: Here we can see that categorical variables segment and drive_unit have missing values 9.4 % and 3.4 % repectively."
   ]
  },
  {
   "cell_type": "code",
   "execution_count": 18,
   "metadata": {},
   "outputs": [
    {
     "data": {
      "text/plain": [
       "drive_unit\n",
       "all-wheel drive                4173\n",
       "front-wheel drive             27038\n",
       "part-time four-wheel drive     2592\n",
       "rear drive                     4804\n",
       "Name: drive_unit, dtype: int64"
      ]
     },
     "execution_count": 18,
     "metadata": {},
     "output_type": "execute_result"
    }
   ],
   "source": [
    "# Compute the frequency with each feature\n",
    "car_df.groupby(['drive_unit'])['drive_unit'].count()"
   ]
  },
  {
   "cell_type": "markdown",
   "metadata": {},
   "source": [
    "Note: Frequent samples from front-wheel drive cars."
   ]
  },
  {
   "cell_type": "code",
   "execution_count": 19,
   "metadata": {},
   "outputs": [
    {
     "data": {
      "image/png": "[encoded data removed]",
      "text/plain": [
       "<Figure size 432x288 with 1 Axes>"
      ]
     },
     "metadata": {
      "needs_background": "light"
     },
     "output_type": "display_data"
    }
   ],
   "source": [
    "car_df['drive_unit'].value_counts().plot.bar()\n",
    "plt.xlabel(\"Drive Units\")\n",
    "plt.ylabel(\"Frequency\")\n",
    "plt.show()"
   ]
  },
  {
   "cell_type": "code",
   "execution_count": 20,
   "metadata": {},
   "outputs": [
    {
     "data": {
      "image/png": "[encoded data removed]",
      "text/plain": [
       "<Figure size 432x288 with 1 Axes>"
      ]
     },
     "metadata": {
      "needs_background": "light"
     },
     "output_type": "display_data"
    }
   ],
   "source": [
    "car_df['segment'].value_counts().plot.bar()\n",
    "plt.xlabel(\"Segment\")\n",
    "plt.ylabel(\"Frequency\")\n",
    "plt.show()"
   ]
  },
  {
   "cell_type": "markdown",
   "metadata": {},
   "source": [
    "##### Replace NaN with new category"
   ]
  },
  {
   "cell_type": "code",
   "execution_count": 21,
   "metadata": {},
   "outputs": [],
   "source": [
    "def replace_nan(df,variable):\n",
    "    df[variable+'_imputed'] = np.where(df[variable].isnull(),'Missing',df[variable])"
   ]
  },
  {
   "cell_type": "code",
   "execution_count": 22,
   "metadata": {},
   "outputs": [],
   "source": [
    "for feature in ['segment','drive_unit']:\n",
    "    replace_nan(car_df,feature)"
   ]
  },
  {
   "cell_type": "code",
   "execution_count": 23,
   "metadata": {},
   "outputs": [
    {
     "data": {
      "text/plain": [
       "make                      0\n",
       "model                     0\n",
       "priceUSD                  0\n",
       "year                      0\n",
       "condition                 0\n",
       "mileage(kilometers)       0\n",
       "fuel_type                 0\n",
       "volume(cm3)              30\n",
       "color                     0\n",
       "transmission              0\n",
       "drive_unit             1344\n",
       "segment                3752\n",
       "volume(cm3)_imputed       0\n",
       "segment_imputed           0\n",
       "drive_unit_imputed        0\n",
       "dtype: int64"
      ]
     },
     "execution_count": 23,
     "metadata": {},
     "output_type": "execute_result"
    }
   ],
   "source": [
    "car_df.isnull().sum()"
   ]
  },
  {
   "cell_type": "code",
   "execution_count": 24,
   "metadata": {},
   "outputs": [],
   "source": [
    "# Deriving new feature car_age from the use of year feature\n",
    "car_df['car_age'] = 2020 - car_df['year']"
   ]
  },
  {
   "cell_type": "code",
   "execution_count": 25,
   "metadata": {},
   "outputs": [
    {
     "data": {
      "text/html": [
       "<div>\n",
       "<style scoped>\n",
       "    .dataframe tbody tr th:only-of-type {\n",
       "        vertical-align: middle;\n",
       "    }\n",
       "\n",
       "    .dataframe tbody tr th {\n",
       "        vertical-align: top;\n",
       "    }\n",
       "\n",
       "    .dataframe thead th {\n",
       "        text-align: right;\n",
       "    }\n",
       "</style>\n",
       "<table border=\"1\" class=\"dataframe\">\n",
       "  <thead>\n",
       "    <tr style=\"text-align: right;\">\n",
       "      <th></th>\n",
       "      <th>priceUSD</th>\n",
       "      <th>condition</th>\n",
       "      <th>mileage(kilometers)</th>\n",
       "      <th>fuel_type</th>\n",
       "      <th>color</th>\n",
       "      <th>transmission</th>\n",
       "      <th>volume(cm3)_imputed</th>\n",
       "      <th>segment_imputed</th>\n",
       "      <th>drive_unit_imputed</th>\n",
       "      <th>car_age</th>\n",
       "    </tr>\n",
       "  </thead>\n",
       "  <tbody>\n",
       "    <tr>\n",
       "      <th>0</th>\n",
       "      <td>565</td>\n",
       "      <td>with mileage</td>\n",
       "      <td>960015.000</td>\n",
       "      <td>petrol</td>\n",
       "      <td>black</td>\n",
       "      <td>mechanics</td>\n",
       "      <td>2000.000</td>\n",
       "      <td>D</td>\n",
       "      <td>front-wheel drive</td>\n",
       "      <td>27</td>\n",
       "    </tr>\n",
       "    <tr>\n",
       "      <th>1</th>\n",
       "      <td>5550</td>\n",
       "      <td>with mileage</td>\n",
       "      <td>172000.000</td>\n",
       "      <td>diesel</td>\n",
       "      <td>silver</td>\n",
       "      <td>mechanics</td>\n",
       "      <td>1400.000</td>\n",
       "      <td>M</td>\n",
       "      <td>front-wheel drive</td>\n",
       "      <td>12</td>\n",
       "    </tr>\n",
       "    <tr>\n",
       "      <th>2</th>\n",
       "      <td>8300</td>\n",
       "      <td>with mileage</td>\n",
       "      <td>223000.000</td>\n",
       "      <td>petrol</td>\n",
       "      <td>purple</td>\n",
       "      <td>auto</td>\n",
       "      <td>2500.000</td>\n",
       "      <td>D</td>\n",
       "      <td>front-wheel drive</td>\n",
       "      <td>12</td>\n",
       "    </tr>\n",
       "    <tr>\n",
       "      <th>3</th>\n",
       "      <td>3300</td>\n",
       "      <td>with mileage</td>\n",
       "      <td>140000.000</td>\n",
       "      <td>petrol</td>\n",
       "      <td>blue</td>\n",
       "      <td>mechanics</td>\n",
       "      <td>1200.000</td>\n",
       "      <td>A</td>\n",
       "      <td>front-wheel drive</td>\n",
       "      <td>15</td>\n",
       "    </tr>\n",
       "    <tr>\n",
       "      <th>4</th>\n",
       "      <td>2450</td>\n",
       "      <td>with damage</td>\n",
       "      <td>413000.000</td>\n",
       "      <td>diesel</td>\n",
       "      <td>burgundy</td>\n",
       "      <td>mechanics</td>\n",
       "      <td>2200.000</td>\n",
       "      <td>D</td>\n",
       "      <td>front-wheel drive</td>\n",
       "      <td>18</td>\n",
       "    </tr>\n",
       "  </tbody>\n",
       "</table>\n",
       "</div>"
      ],
      "text/plain": [
       "   priceUSD     condition  mileage(kilometers) fuel_type     color  \\\n",
       "0       565  with mileage           960015.000    petrol     black   \n",
       "1      5550  with mileage           172000.000    diesel    silver   \n",
       "2      8300  with mileage           223000.000    petrol    purple   \n",
       "3      3300  with mileage           140000.000    petrol      blue   \n",
       "4      2450   with damage           413000.000    diesel  burgundy   \n",
       "\n",
       "  transmission  volume(cm3)_imputed segment_imputed drive_unit_imputed  \\\n",
       "0    mechanics             2000.000               D  front-wheel drive   \n",
       "1    mechanics             1400.000               M  front-wheel drive   \n",
       "2         auto             2500.000               D  front-wheel drive   \n",
       "3    mechanics             1200.000               A  front-wheel drive   \n",
       "4    mechanics             2200.000               D  front-wheel drive   \n",
       "\n",
       "   car_age  \n",
       "0       27  \n",
       "1       12  \n",
       "2       12  \n",
       "3       15  \n",
       "4       18  "
      ]
     },
     "execution_count": 25,
     "metadata": {},
     "output_type": "execute_result"
    }
   ],
   "source": [
    "final_df = car_df.drop(columns= ['make','model','year','volume(cm3)','drive_unit','segment'])\n",
    "final_df.head()"
   ]
  },
  {
   "cell_type": "code",
   "execution_count": 26,
   "metadata": {},
   "outputs": [
    {
     "data": {
      "text/plain": [
       "(39951, 10)"
      ]
     },
     "execution_count": 26,
     "metadata": {},
     "output_type": "execute_result"
    }
   ],
   "source": [
    "final_df.shape"
   ]
  },
  {
   "cell_type": "markdown",
   "metadata": {},
   "source": [
    "#### variable price"
   ]
  },
  {
   "cell_type": "code",
   "execution_count": 27,
   "metadata": {},
   "outputs": [
    {
     "data": {
      "image/png": "[encoded data removed]",
      "text/plain": [
       "<Figure size 432x288 with 1 Axes>"
      ]
     },
     "metadata": {
      "needs_background": "light"
     },
     "output_type": "display_data"
    }
   ],
   "source": [
    "sns.distplot(final_df['priceUSD'])\n",
    "plt.show()"
   ]
  },
  {
   "cell_type": "markdown",
   "metadata": {},
   "source": [
    "Note: Right Skewed plot that means mean>median>mode."
   ]
  },
  {
   "cell_type": "code",
   "execution_count": 28,
   "metadata": {},
   "outputs": [
    {
     "data": {
      "text/plain": [
       "count    39951.000\n",
       "mean      7431.945\n",
       "std       8340.854\n",
       "min         95.000\n",
       "25%       2350.000\n",
       "50%       5350.000\n",
       "75%       9850.000\n",
       "max     195000.000\n",
       "Name: priceUSD, dtype: float64"
      ]
     },
     "execution_count": 28,
     "metadata": {},
     "output_type": "execute_result"
    }
   ],
   "source": [
    "final_df['priceUSD'].describe()"
   ]
  },
  {
   "cell_type": "code",
   "execution_count": 29,
   "metadata": {},
   "outputs": [
    {
     "data": {
      "image/png": "[encoded data removed]",
      "text/plain": [
       "<Figure size 432x288 with 1 Axes>"
      ]
     },
     "metadata": {
      "needs_background": "light"
     },
     "output_type": "display_data"
    }
   ],
   "source": [
    "# log transformation of priceUSD variable\n",
    "sns.distplot(np.log(final_df['priceUSD']))\n",
    "plt.show()"
   ]
  },
  {
   "cell_type": "code",
   "execution_count": 30,
   "metadata": {},
   "outputs": [
    {
     "data": {
      "image/png": "[encoded data removed]",
      "text/plain": [
       "<Figure size 432x288 with 1 Axes>"
      ]
     },
     "metadata": {
      "needs_background": "light"
     },
     "output_type": "display_data"
    }
   ],
   "source": [
    "sns.boxplot(y=np.log(final_df['priceUSD']))\n",
    "plt.show()"
   ]
  },
  {
   "cell_type": "markdown",
   "metadata": {},
   "source": [
    "NOTE: log(priceUSD) is following normal distribution."
   ]
  },
  {
   "cell_type": "markdown",
   "metadata": {},
   "source": [
    "#### Variable year"
   ]
  },
  {
   "cell_type": "code",
   "execution_count": 31,
   "metadata": {},
   "outputs": [
    {
     "data": {
      "text/plain": [
       "1     166\n",
       "2     398\n",
       "3     438\n",
       "4     996\n",
       "5    1439\n",
       "Name: car_age, dtype: int64"
      ]
     },
     "execution_count": 31,
     "metadata": {},
     "output_type": "execute_result"
    }
   ],
   "source": [
    "yearwise_count = final_df['car_age'].value_counts().sort_index()\n",
    "yearwise_count.head()"
   ]
  },
  {
   "cell_type": "code",
   "execution_count": 32,
   "metadata": {},
   "outputs": [
    {
     "data": {
      "image/png": "[encoded data removed]",
      "text/plain": [
       "<Figure size 432x288 with 1 Axes>"
      ]
     },
     "metadata": {
      "needs_background": "light"
     },
     "output_type": "display_data"
    }
   ],
   "source": [
    "sns.regplot(x = 'car_age',y = 'priceUSD',scatter = True, fit_reg = False, data = final_df,color='green')\n",
    "plt.title(\"priceUSD vs Car Age\")\n",
    "plt.show()"
   ]
  },
  {
   "cell_type": "markdown",
   "metadata": {},
   "source": [
    "Here, We can clearly see that as the age of car increases, the car price decreases."
   ]
  },
  {
   "cell_type": "markdown",
   "metadata": {},
   "source": [
    "##### variable mileage"
   ]
  },
  {
   "cell_type": "code",
   "execution_count": 33,
   "metadata": {},
   "outputs": [
    {
     "data": {
      "text/plain": [
       "5000000.000     1\n",
       "5300000.000     1\n",
       "5555555.000     4\n",
       "5689754.000     1\n",
       "6000000.000     1\n",
       "6666666.000     3\n",
       "7000000.000     1\n",
       "7777777.000     1\n",
       "8888888.000     1\n",
       "9999999.000    16\n",
       "Name: mileage(kilometers), dtype: int64"
      ]
     },
     "execution_count": 33,
     "metadata": {},
     "output_type": "execute_result"
    }
   ],
   "source": [
    "mileage_count = final_df['mileage(kilometers)'].value_counts().sort_index()\n",
    "mileage_count.tail(10)"
   ]
  },
  {
   "cell_type": "code",
   "execution_count": 34,
   "metadata": {},
   "outputs": [
    {
     "data": {
      "image/png": "[encoded data removed]",
      "text/plain": [
       "<Figure size 432x288 with 1 Axes>"
      ]
     },
     "metadata": {
      "needs_background": "light"
     },
     "output_type": "display_data"
    }
   ],
   "source": [
    "sns.boxplot(y=final_df['mileage(kilometers)'])\n",
    "plt.show()"
   ]
  },
  {
   "cell_type": "code",
   "execution_count": 35,
   "metadata": {},
   "outputs": [
    {
     "data": {
      "image/png": "[encoded data removed]",
      "text/plain": [
       "<Figure size 432x288 with 1 Axes>"
      ]
     },
     "metadata": {
      "needs_background": "light"
     },
     "output_type": "display_data"
    }
   ],
   "source": [
    "sns.regplot(x = 'mileage(kilometers)',y = 'priceUSD',scatter = True, fit_reg = False, data = final_df,color='red')\n",
    "plt.title(\"priceUSD vs mileage\")\n",
    "plt.show()"
   ]
  },
  {
   "cell_type": "markdown",
   "metadata": {},
   "source": [
    "<b> Note: There is very low relation betweeen mileage and priceUSD </b>"
   ]
  },
  {
   "cell_type": "markdown",
   "metadata": {},
   "source": [
    "#####  variable volume(cm3)"
   ]
  },
  {
   "cell_type": "code",
   "execution_count": 36,
   "metadata": {},
   "outputs": [
    {
     "data": {
      "text/plain": [
       "6800.000      1\n",
       "7000.000      1\n",
       "7500.000      2\n",
       "8000.000      2\n",
       "9983.000      1\n",
       "10000.000     1\n",
       "12000.000     1\n",
       "13000.000     3\n",
       "14000.000     3\n",
       "15000.000     2\n",
       "16000.000     6\n",
       "16902.000     1\n",
       "18000.000     9\n",
       "19000.000     9\n",
       "20000.000    21\n",
       "Name: volume(cm3)_imputed, dtype: int64"
      ]
     },
     "execution_count": 36,
     "metadata": {},
     "output_type": "execute_result"
    }
   ],
   "source": [
    "volume_count = final_df['volume(cm3)_imputed'].value_counts().sort_index()\n",
    "volume_count.tail(15)"
   ]
  },
  {
   "cell_type": "code",
   "execution_count": 37,
   "metadata": {},
   "outputs": [
    {
     "data": {
      "text/plain": [
       "count   39951.000\n",
       "mean     2103.197\n",
       "std       938.648\n",
       "min       500.000\n",
       "25%      1600.000\n",
       "50%      1995.000\n",
       "75%      2300.000\n",
       "max     20000.000\n",
       "Name: volume(cm3)_imputed, dtype: float64"
      ]
     },
     "execution_count": 37,
     "metadata": {},
     "output_type": "execute_result"
    }
   ],
   "source": [
    "final_df['volume(cm3)_imputed'].describe()"
   ]
  },
  {
   "cell_type": "code",
   "execution_count": 38,
   "metadata": {},
   "outputs": [
    {
     "data": {
      "image/png": "[encoded data removed]",
      "text/plain": [
       "<Figure size 432x288 with 1 Axes>"
      ]
     },
     "metadata": {
      "needs_background": "light"
     },
     "output_type": "display_data"
    }
   ],
   "source": [
    "sns.regplot(x = 'volume(cm3)_imputed',y = 'priceUSD',scatter = True, fit_reg = False, data = final_df,color='blue')\n",
    "plt.title(\"priceUSD vs volume\")\n",
    "plt.show()"
   ]
  },
  {
   "cell_type": "markdown",
   "metadata": {},
   "source": [
    "Note: Here is some outliers present in volume. but generally we can say that increase in volume of car, increase in price of car."
   ]
  },
  {
   "cell_type": "code",
   "execution_count": 39,
   "metadata": {},
   "outputs": [
    {
     "data": {
      "text/plain": [
       "57"
      ]
     },
     "execution_count": 39,
     "metadata": {},
     "output_type": "execute_result"
    }
   ],
   "source": [
    "sum(final_df['volume(cm3)_imputed']>8000)"
   ]
  },
  {
   "cell_type": "markdown",
   "metadata": {},
   "source": [
    "NOTE: We will remove outliers from volume. So, WORKING RANGE for volume will be 500 to 8000"
   ]
  },
  {
   "cell_type": "markdown",
   "metadata": {},
   "source": [
    "#### Drop those records which are out of working range"
   ]
  },
  {
   "cell_type": "code",
   "execution_count": null,
   "metadata": {},
   "outputs": [],
   "source": [
    "car = final_df[ final_df['volume(cm3)_imputed'] <= 8000 ]\n",
    "\n",
    "# Also remove mileage variable (not important)\n",
    "car.drop(columns=['mileage(kilometers)'],inplace=True)"
   ]
  },
  {
   "cell_type": "code",
   "execution_count": 41,
   "metadata": {},
   "outputs": [
    {
     "data": {
      "text/plain": [
       "(39894, 9)"
      ]
     },
     "execution_count": 41,
     "metadata": {},
     "output_type": "execute_result"
    }
   ],
   "source": [
    "car.shape"
   ]
  },
  {
   "cell_type": "markdown",
   "metadata": {},
   "source": [
    "NOTE: <b>~57 records dropped </b> after removing outliers."
   ]
  },
  {
   "cell_type": "markdown",
   "metadata": {},
   "source": [
    "### Categorical Variable"
   ]
  },
  {
   "cell_type": "code",
   "execution_count": 42,
   "metadata": {},
   "outputs": [
    {
     "data": {
      "text/html": [
       "<div>\n",
       "<style scoped>\n",
       "    .dataframe tbody tr th:only-of-type {\n",
       "        vertical-align: middle;\n",
       "    }\n",
       "\n",
       "    .dataframe tbody tr th {\n",
       "        vertical-align: top;\n",
       "    }\n",
       "\n",
       "    .dataframe thead th {\n",
       "        text-align: right;\n",
       "    }\n",
       "</style>\n",
       "<table border=\"1\" class=\"dataframe\">\n",
       "  <thead>\n",
       "    <tr style=\"text-align: right;\">\n",
       "      <th></th>\n",
       "      <th>priceUSD</th>\n",
       "      <th>condition</th>\n",
       "      <th>fuel_type</th>\n",
       "      <th>color</th>\n",
       "      <th>transmission</th>\n",
       "      <th>volume(cm3)_imputed</th>\n",
       "      <th>segment_imputed</th>\n",
       "      <th>drive_unit_imputed</th>\n",
       "      <th>car_age</th>\n",
       "    </tr>\n",
       "  </thead>\n",
       "  <tbody>\n",
       "    <tr>\n",
       "      <th>0</th>\n",
       "      <td>565</td>\n",
       "      <td>with mileage</td>\n",
       "      <td>petrol</td>\n",
       "      <td>black</td>\n",
       "      <td>mechanics</td>\n",
       "      <td>2000.000</td>\n",
       "      <td>D</td>\n",
       "      <td>front-wheel drive</td>\n",
       "      <td>27</td>\n",
       "    </tr>\n",
       "    <tr>\n",
       "      <th>1</th>\n",
       "      <td>5550</td>\n",
       "      <td>with mileage</td>\n",
       "      <td>diesel</td>\n",
       "      <td>silver</td>\n",
       "      <td>mechanics</td>\n",
       "      <td>1400.000</td>\n",
       "      <td>M</td>\n",
       "      <td>front-wheel drive</td>\n",
       "      <td>12</td>\n",
       "    </tr>\n",
       "    <tr>\n",
       "      <th>2</th>\n",
       "      <td>8300</td>\n",
       "      <td>with mileage</td>\n",
       "      <td>petrol</td>\n",
       "      <td>purple</td>\n",
       "      <td>auto</td>\n",
       "      <td>2500.000</td>\n",
       "      <td>D</td>\n",
       "      <td>front-wheel drive</td>\n",
       "      <td>12</td>\n",
       "    </tr>\n",
       "    <tr>\n",
       "      <th>3</th>\n",
       "      <td>3300</td>\n",
       "      <td>with mileage</td>\n",
       "      <td>petrol</td>\n",
       "      <td>blue</td>\n",
       "      <td>mechanics</td>\n",
       "      <td>1200.000</td>\n",
       "      <td>A</td>\n",
       "      <td>front-wheel drive</td>\n",
       "      <td>15</td>\n",
       "    </tr>\n",
       "    <tr>\n",
       "      <th>4</th>\n",
       "      <td>2450</td>\n",
       "      <td>with damage</td>\n",
       "      <td>diesel</td>\n",
       "      <td>burgundy</td>\n",
       "      <td>mechanics</td>\n",
       "      <td>2200.000</td>\n",
       "      <td>D</td>\n",
       "      <td>front-wheel drive</td>\n",
       "      <td>18</td>\n",
       "    </tr>\n",
       "  </tbody>\n",
       "</table>\n",
       "</div>"
      ],
      "text/plain": [
       "   priceUSD     condition fuel_type     color transmission  \\\n",
       "0       565  with mileage    petrol     black    mechanics   \n",
       "1      5550  with mileage    diesel    silver    mechanics   \n",
       "2      8300  with mileage    petrol    purple         auto   \n",
       "3      3300  with mileage    petrol      blue    mechanics   \n",
       "4      2450   with damage    diesel  burgundy    mechanics   \n",
       "\n",
       "   volume(cm3)_imputed segment_imputed drive_unit_imputed  car_age  \n",
       "0             2000.000               D  front-wheel drive       27  \n",
       "1             1400.000               M  front-wheel drive       12  \n",
       "2             2500.000               D  front-wheel drive       12  \n",
       "3             1200.000               A  front-wheel drive       15  \n",
       "4             2200.000               D  front-wheel drive       18  "
      ]
     },
     "execution_count": 42,
     "metadata": {},
     "output_type": "execute_result"
    }
   ],
   "source": [
    "car.head()"
   ]
  },
  {
   "cell_type": "code",
   "execution_count": 43,
   "metadata": {},
   "outputs": [
    {
     "data": {
      "image/png": "[encoded data removed]",
      "text/plain": [
       "<Figure size 432x288 with 1 Axes>"
      ]
     },
     "metadata": {
      "needs_background": "light"
     },
     "output_type": "display_data"
    }
   ],
   "source": [
    "# variable condition\n",
    "sns.countplot(x = 'condition',data = car)\n",
    "plt.show()"
   ]
  },
  {
   "cell_type": "code",
   "execution_count": 44,
   "metadata": {},
   "outputs": [
    {
     "data": {
      "text/plain": [
       "with mileage    39232\n",
       "with damage       341\n",
       "for parts         321\n",
       "Name: condition, dtype: int64"
      ]
     },
     "execution_count": 44,
     "metadata": {},
     "output_type": "execute_result"
    }
   ],
   "source": [
    "car['condition'].value_counts()"
   ]
  },
  {
   "cell_type": "code",
   "execution_count": 45,
   "metadata": {},
   "outputs": [
    {
     "data": {
      "image/png": "[encoded data removed]",
      "text/plain": [
       "<Figure size 432x288 with 1 Axes>"
      ]
     },
     "metadata": {
      "needs_background": "light"
     },
     "output_type": "display_data"
    }
   ],
   "source": [
    "sns.boxplot(x = 'condition', y = 'priceUSD',data = car)\n",
    "plt.show()"
   ]
  },
  {
   "cell_type": "code",
   "execution_count": 46,
   "metadata": {},
   "outputs": [
    {
     "data": {
      "image/png": "[encoded data removed]",
      "text/plain": [
       "<Figure size 432x288 with 1 Axes>"
      ]
     },
     "metadata": {
      "needs_background": "light"
     },
     "output_type": "display_data"
    }
   ],
   "source": [
    "# variable fuel type\n",
    "sns.countplot(x = 'fuel_type',data = car)\n",
    "plt.show()"
   ]
  },
  {
   "cell_type": "code",
   "execution_count": 47,
   "metadata": {},
   "outputs": [
    {
     "data": {
      "image/png": "[encoded data removed]",
      "text/plain": [
       "<Figure size 432x288 with 1 Axes>"
      ]
     },
     "metadata": {
      "needs_background": "light"
     },
     "output_type": "display_data"
    }
   ],
   "source": [
    "sns.boxplot(x = 'fuel_type', y = 'priceUSD',data = car)\n",
    "plt.show()"
   ]
  },
  {
   "cell_type": "code",
   "execution_count": 48,
   "metadata": {},
   "outputs": [
    {
     "data": {
      "image/png": "[encoded data removed]",
      "text/plain": [
       "<Figure size 432x288 with 1 Axes>"
      ]
     },
     "metadata": {
      "needs_background": "light"
     },
     "output_type": "display_data"
    }
   ],
   "source": [
    "# variable color\n",
    "sns.countplot(x = 'color',data = car)\n",
    "plt.show()"
   ]
  },
  {
   "cell_type": "code",
   "execution_count": 49,
   "metadata": {},
   "outputs": [
    {
     "data": {
      "image/png": "[encoded data removed]",
      "text/plain": [
       "<Figure size 432x288 with 1 Axes>"
      ]
     },
     "metadata": {
      "needs_background": "light"
     },
     "output_type": "display_data"
    }
   ],
   "source": [
    "sns.boxplot(x = 'color', y = 'priceUSD',data = car)\n",
    "plt.show()"
   ]
  },
  {
   "cell_type": "code",
   "execution_count": 50,
   "metadata": {},
   "outputs": [
    {
     "data": {
      "image/png": "[encoded data removed]",
      "text/plain": [
       "<Figure size 432x288 with 1 Axes>"
      ]
     },
     "metadata": {
      "needs_background": "light"
     },
     "output_type": "display_data"
    }
   ],
   "source": [
    "# variable transmission\n",
    "sns.countplot(x = 'transmission',data = car)\n",
    "plt.show()"
   ]
  },
  {
   "cell_type": "code",
   "execution_count": 51,
   "metadata": {},
   "outputs": [
    {
     "data": {
      "image/png": "[encoded data removed]",
      "text/plain": [
       "<Figure size 432x288 with 1 Axes>"
      ]
     },
     "metadata": {
      "needs_background": "light"
     },
     "output_type": "display_data"
    }
   ],
   "source": [
    "sns.boxplot(x = 'transmission', y = 'priceUSD',data = car)\n",
    "plt.show()"
   ]
  },
  {
   "cell_type": "code",
   "execution_count": 52,
   "metadata": {},
   "outputs": [
    {
     "data": {
      "image/png": "[encoded data removed]",
      "text/plain": [
       "<Figure size 432x288 with 1 Axes>"
      ]
     },
     "metadata": {
      "needs_background": "light"
     },
     "output_type": "display_data"
    }
   ],
   "source": [
    "# drive unit\n",
    "sns.countplot(x = 'drive_unit_imputed',data = car)\n",
    "plt.show()"
   ]
  },
  {
   "cell_type": "code",
   "execution_count": 53,
   "metadata": {},
   "outputs": [
    {
     "data": {
      "image/png": "[encoded data removed]",
      "text/plain": [
       "<Figure size 432x288 with 1 Axes>"
      ]
     },
     "metadata": {
      "needs_background": "light"
     },
     "output_type": "display_data"
    }
   ],
   "source": [
    "sns.boxplot(x = 'drive_unit_imputed', y = 'priceUSD',data = car)\n",
    "plt.show()"
   ]
  },
  {
   "cell_type": "code",
   "execution_count": 54,
   "metadata": {},
   "outputs": [
    {
     "data": {
      "image/png": "[encoded data removed]",
      "text/plain": [
       "<Figure size 432x288 with 1 Axes>"
      ]
     },
     "metadata": {
      "needs_background": "light"
     },
     "output_type": "display_data"
    }
   ],
   "source": [
    "# drive segment\n",
    "sns.countplot(x = 'segment_imputed',data = car)\n",
    "plt.show()"
   ]
  },
  {
   "cell_type": "code",
   "execution_count": 55,
   "metadata": {},
   "outputs": [
    {
     "data": {
      "image/png": "[encoded data removed]",
      "text/plain": [
       "<Figure size 432x288 with 1 Axes>"
      ]
     },
     "metadata": {
      "needs_background": "light"
     },
     "output_type": "display_data"
    }
   ],
   "source": [
    "sns.boxplot(x = 'segment_imputed', y = 'priceUSD',data = car)\n",
    "plt.show()"
   ]
  },
  {
   "cell_type": "markdown",
   "metadata": {},
   "source": [
    "### Correlations"
   ]
  },
  {
   "cell_type": "code",
   "execution_count": 56,
   "metadata": {},
   "outputs": [
    {
     "data": {
      "text/html": [
       "<div>\n",
       "<style scoped>\n",
       "    .dataframe tbody tr th:only-of-type {\n",
       "        vertical-align: middle;\n",
       "    }\n",
       "\n",
       "    .dataframe tbody tr th {\n",
       "        vertical-align: top;\n",
       "    }\n",
       "\n",
       "    .dataframe thead th {\n",
       "        text-align: right;\n",
       "    }\n",
       "</style>\n",
       "<table border=\"1\" class=\"dataframe\">\n",
       "  <thead>\n",
       "    <tr style=\"text-align: right;\">\n",
       "      <th></th>\n",
       "      <th>priceUSD</th>\n",
       "      <th>volume(cm3)_imputed</th>\n",
       "      <th>car_age</th>\n",
       "    </tr>\n",
       "  </thead>\n",
       "  <tbody>\n",
       "    <tr>\n",
       "      <th>0</th>\n",
       "      <td>565</td>\n",
       "      <td>2000.000</td>\n",
       "      <td>27</td>\n",
       "    </tr>\n",
       "    <tr>\n",
       "      <th>1</th>\n",
       "      <td>5550</td>\n",
       "      <td>1400.000</td>\n",
       "      <td>12</td>\n",
       "    </tr>\n",
       "    <tr>\n",
       "      <th>2</th>\n",
       "      <td>8300</td>\n",
       "      <td>2500.000</td>\n",
       "      <td>12</td>\n",
       "    </tr>\n",
       "    <tr>\n",
       "      <th>3</th>\n",
       "      <td>3300</td>\n",
       "      <td>1200.000</td>\n",
       "      <td>15</td>\n",
       "    </tr>\n",
       "    <tr>\n",
       "      <th>4</th>\n",
       "      <td>2450</td>\n",
       "      <td>2200.000</td>\n",
       "      <td>18</td>\n",
       "    </tr>\n",
       "  </tbody>\n",
       "</table>\n",
       "</div>"
      ],
      "text/plain": [
       "   priceUSD  volume(cm3)_imputed  car_age\n",
       "0       565             2000.000       27\n",
       "1      5550             1400.000       12\n",
       "2      8300             2500.000       12\n",
       "3      3300             1200.000       15\n",
       "4      2450             2200.000       18"
      ]
     },
     "execution_count": 56,
     "metadata": {},
     "output_type": "execute_result"
    }
   ],
   "source": [
    "car_numerical = car.select_dtypes(exclude = object)\n",
    "car_numerical.head()"
   ]
  },
  {
   "cell_type": "code",
   "execution_count": 57,
   "metadata": {},
   "outputs": [
    {
     "data": {
      "text/html": [
       "<div>\n",
       "<style scoped>\n",
       "    .dataframe tbody tr th:only-of-type {\n",
       "        vertical-align: middle;\n",
       "    }\n",
       "\n",
       "    .dataframe tbody tr th {\n",
       "        vertical-align: top;\n",
       "    }\n",
       "\n",
       "    .dataframe thead th {\n",
       "        text-align: right;\n",
       "    }\n",
       "</style>\n",
       "<table border=\"1\" class=\"dataframe\">\n",
       "  <thead>\n",
       "    <tr style=\"text-align: right;\">\n",
       "      <th></th>\n",
       "      <th>priceUSD</th>\n",
       "      <th>volume(cm3)_imputed</th>\n",
       "      <th>car_age</th>\n",
       "    </tr>\n",
       "  </thead>\n",
       "  <tbody>\n",
       "    <tr>\n",
       "      <th>priceUSD</th>\n",
       "      <td>1.000</td>\n",
       "      <td>0.367</td>\n",
       "      <td>-0.608</td>\n",
       "    </tr>\n",
       "    <tr>\n",
       "      <th>volume(cm3)_imputed</th>\n",
       "      <td>0.367</td>\n",
       "      <td>1.000</td>\n",
       "      <td>-0.053</td>\n",
       "    </tr>\n",
       "    <tr>\n",
       "      <th>car_age</th>\n",
       "      <td>-0.608</td>\n",
       "      <td>-0.053</td>\n",
       "      <td>1.000</td>\n",
       "    </tr>\n",
       "  </tbody>\n",
       "</table>\n",
       "</div>"
      ],
      "text/plain": [
       "                     priceUSD  volume(cm3)_imputed  car_age\n",
       "priceUSD                1.000                0.367   -0.608\n",
       "volume(cm3)_imputed     0.367                1.000   -0.053\n",
       "car_age                -0.608               -0.053    1.000"
      ]
     },
     "execution_count": 57,
     "metadata": {},
     "output_type": "execute_result"
    }
   ],
   "source": [
    "car_numerical.corr()"
   ]
  },
  {
   "cell_type": "code",
   "execution_count": 58,
   "metadata": {},
   "outputs": [
    {
     "data": {
      "text/plain": [
       "car_age               0.608\n",
       "volume(cm3)_imputed   0.367\n",
       "Name: priceUSD, dtype: float64"
      ]
     },
     "execution_count": 58,
     "metadata": {},
     "output_type": "execute_result"
    }
   ],
   "source": [
    "car_numerical.corr().loc[:,'priceUSD'].abs().sort_values(ascending = False)[1:]"
   ]
  },
  {
   "cell_type": "code",
   "execution_count": 59,
   "metadata": {},
   "outputs": [
    {
     "data": {
      "text/html": [
       "<div>\n",
       "<style scoped>\n",
       "    .dataframe tbody tr th:only-of-type {\n",
       "        vertical-align: middle;\n",
       "    }\n",
       "\n",
       "    .dataframe tbody tr th {\n",
       "        vertical-align: top;\n",
       "    }\n",
       "\n",
       "    .dataframe thead th {\n",
       "        text-align: right;\n",
       "    }\n",
       "</style>\n",
       "<table border=\"1\" class=\"dataframe\">\n",
       "  <thead>\n",
       "    <tr style=\"text-align: right;\">\n",
       "      <th></th>\n",
       "      <th>priceUSD</th>\n",
       "      <th>condition</th>\n",
       "      <th>fuel_type</th>\n",
       "      <th>color</th>\n",
       "      <th>transmission</th>\n",
       "      <th>volume(cm3)_imputed</th>\n",
       "      <th>segment_imputed</th>\n",
       "      <th>drive_unit_imputed</th>\n",
       "      <th>car_age</th>\n",
       "    </tr>\n",
       "  </thead>\n",
       "  <tbody>\n",
       "    <tr>\n",
       "      <th>0</th>\n",
       "      <td>565</td>\n",
       "      <td>with mileage</td>\n",
       "      <td>petrol</td>\n",
       "      <td>black</td>\n",
       "      <td>mechanics</td>\n",
       "      <td>2000.000</td>\n",
       "      <td>D</td>\n",
       "      <td>front-wheel drive</td>\n",
       "      <td>27</td>\n",
       "    </tr>\n",
       "    <tr>\n",
       "      <th>1</th>\n",
       "      <td>5550</td>\n",
       "      <td>with mileage</td>\n",
       "      <td>diesel</td>\n",
       "      <td>silver</td>\n",
       "      <td>mechanics</td>\n",
       "      <td>1400.000</td>\n",
       "      <td>M</td>\n",
       "      <td>front-wheel drive</td>\n",
       "      <td>12</td>\n",
       "    </tr>\n",
       "    <tr>\n",
       "      <th>2</th>\n",
       "      <td>8300</td>\n",
       "      <td>with mileage</td>\n",
       "      <td>petrol</td>\n",
       "      <td>purple</td>\n",
       "      <td>auto</td>\n",
       "      <td>2500.000</td>\n",
       "      <td>D</td>\n",
       "      <td>front-wheel drive</td>\n",
       "      <td>12</td>\n",
       "    </tr>\n",
       "    <tr>\n",
       "      <th>3</th>\n",
       "      <td>3300</td>\n",
       "      <td>with mileage</td>\n",
       "      <td>petrol</td>\n",
       "      <td>blue</td>\n",
       "      <td>mechanics</td>\n",
       "      <td>1200.000</td>\n",
       "      <td>A</td>\n",
       "      <td>front-wheel drive</td>\n",
       "      <td>15</td>\n",
       "    </tr>\n",
       "    <tr>\n",
       "      <th>4</th>\n",
       "      <td>2450</td>\n",
       "      <td>with damage</td>\n",
       "      <td>diesel</td>\n",
       "      <td>burgundy</td>\n",
       "      <td>mechanics</td>\n",
       "      <td>2200.000</td>\n",
       "      <td>D</td>\n",
       "      <td>front-wheel drive</td>\n",
       "      <td>18</td>\n",
       "    </tr>\n",
       "  </tbody>\n",
       "</table>\n",
       "</div>"
      ],
      "text/plain": [
       "   priceUSD     condition fuel_type     color transmission  \\\n",
       "0       565  with mileage    petrol     black    mechanics   \n",
       "1      5550  with mileage    diesel    silver    mechanics   \n",
       "2      8300  with mileage    petrol    purple         auto   \n",
       "3      3300  with mileage    petrol      blue    mechanics   \n",
       "4      2450   with damage    diesel  burgundy    mechanics   \n",
       "\n",
       "   volume(cm3)_imputed segment_imputed drive_unit_imputed  car_age  \n",
       "0             2000.000               D  front-wheel drive       27  \n",
       "1             1400.000               M  front-wheel drive       12  \n",
       "2             2500.000               D  front-wheel drive       12  \n",
       "3             1200.000               A  front-wheel drive       15  \n",
       "4             2200.000               D  front-wheel drive       18  "
      ]
     },
     "execution_count": 59,
     "metadata": {},
     "output_type": "execute_result"
    }
   ],
   "source": [
    "car.head()"
   ]
  },
  {
   "cell_type": "markdown",
   "metadata": {},
   "source": [
    "## Modelling"
   ]
  },
  {
   "cell_type": "code",
   "execution_count": 61,
   "metadata": {},
   "outputs": [
    {
     "data": {
      "text/plain": [
       "(39894, 9)"
      ]
     },
     "execution_count": 61,
     "metadata": {},
     "output_type": "execute_result"
    }
   ],
   "source": [
    "# Shape of the data\n",
    "car.shape"
   ]
  },
  {
   "cell_type": "code",
   "execution_count": 62,
   "metadata": {},
   "outputs": [
    {
     "data": {
      "text/plain": [
       "(39894, 33)"
      ]
     },
     "execution_count": 62,
     "metadata": {},
     "output_type": "execute_result"
    }
   ],
   "source": [
    "# converting categorical values in dummy variables\n",
    "car_dummy = pd.get_dummies(car,drop_first = True)\n",
    "car_dummy.shape"
   ]
  },
  {
   "cell_type": "code",
   "execution_count": 63,
   "metadata": {},
   "outputs": [
    {
     "data": {
      "text/html": [
       "<div>\n",
       "<style scoped>\n",
       "    .dataframe tbody tr th:only-of-type {\n",
       "        vertical-align: middle;\n",
       "    }\n",
       "\n",
       "    .dataframe tbody tr th {\n",
       "        vertical-align: top;\n",
       "    }\n",
       "\n",
       "    .dataframe thead th {\n",
       "        text-align: right;\n",
       "    }\n",
       "</style>\n",
       "<table border=\"1\" class=\"dataframe\">\n",
       "  <thead>\n",
       "    <tr style=\"text-align: right;\">\n",
       "      <th></th>\n",
       "      <th>priceUSD</th>\n",
       "      <th>volume(cm3)_imputed</th>\n",
       "      <th>car_age</th>\n",
       "      <th>condition_with damage</th>\n",
       "      <th>condition_with mileage</th>\n",
       "      <th>fuel_type_electrocar</th>\n",
       "      <th>fuel_type_petrol</th>\n",
       "      <th>color_blue</th>\n",
       "      <th>color_brown</th>\n",
       "      <th>color_burgundy</th>\n",
       "      <th>...</th>\n",
       "      <th>segment_imputed_E</th>\n",
       "      <th>segment_imputed_F</th>\n",
       "      <th>segment_imputed_J</th>\n",
       "      <th>segment_imputed_M</th>\n",
       "      <th>segment_imputed_Missing</th>\n",
       "      <th>segment_imputed_S</th>\n",
       "      <th>drive_unit_imputed_all-wheel drive</th>\n",
       "      <th>drive_unit_imputed_front-wheel drive</th>\n",
       "      <th>drive_unit_imputed_part-time four-wheel drive</th>\n",
       "      <th>drive_unit_imputed_rear drive</th>\n",
       "    </tr>\n",
       "  </thead>\n",
       "  <tbody>\n",
       "    <tr>\n",
       "      <th>0</th>\n",
       "      <td>565</td>\n",
       "      <td>2000.000</td>\n",
       "      <td>27</td>\n",
       "      <td>0</td>\n",
       "      <td>1</td>\n",
       "      <td>0</td>\n",
       "      <td>1</td>\n",
       "      <td>0</td>\n",
       "      <td>0</td>\n",
       "      <td>0</td>\n",
       "      <td>...</td>\n",
       "      <td>0</td>\n",
       "      <td>0</td>\n",
       "      <td>0</td>\n",
       "      <td>0</td>\n",
       "      <td>0</td>\n",
       "      <td>0</td>\n",
       "      <td>0</td>\n",
       "      <td>1</td>\n",
       "      <td>0</td>\n",
       "      <td>0</td>\n",
       "    </tr>\n",
       "    <tr>\n",
       "      <th>1</th>\n",
       "      <td>5550</td>\n",
       "      <td>1400.000</td>\n",
       "      <td>12</td>\n",
       "      <td>0</td>\n",
       "      <td>1</td>\n",
       "      <td>0</td>\n",
       "      <td>0</td>\n",
       "      <td>0</td>\n",
       "      <td>0</td>\n",
       "      <td>0</td>\n",
       "      <td>...</td>\n",
       "      <td>0</td>\n",
       "      <td>0</td>\n",
       "      <td>0</td>\n",
       "      <td>1</td>\n",
       "      <td>0</td>\n",
       "      <td>0</td>\n",
       "      <td>0</td>\n",
       "      <td>1</td>\n",
       "      <td>0</td>\n",
       "      <td>0</td>\n",
       "    </tr>\n",
       "    <tr>\n",
       "      <th>2</th>\n",
       "      <td>8300</td>\n",
       "      <td>2500.000</td>\n",
       "      <td>12</td>\n",
       "      <td>0</td>\n",
       "      <td>1</td>\n",
       "      <td>0</td>\n",
       "      <td>1</td>\n",
       "      <td>0</td>\n",
       "      <td>0</td>\n",
       "      <td>0</td>\n",
       "      <td>...</td>\n",
       "      <td>0</td>\n",
       "      <td>0</td>\n",
       "      <td>0</td>\n",
       "      <td>0</td>\n",
       "      <td>0</td>\n",
       "      <td>0</td>\n",
       "      <td>0</td>\n",
       "      <td>1</td>\n",
       "      <td>0</td>\n",
       "      <td>0</td>\n",
       "    </tr>\n",
       "    <tr>\n",
       "      <th>3</th>\n",
       "      <td>3300</td>\n",
       "      <td>1200.000</td>\n",
       "      <td>15</td>\n",
       "      <td>0</td>\n",
       "      <td>1</td>\n",
       "      <td>0</td>\n",
       "      <td>1</td>\n",
       "      <td>1</td>\n",
       "      <td>0</td>\n",
       "      <td>0</td>\n",
       "      <td>...</td>\n",
       "      <td>0</td>\n",
       "      <td>0</td>\n",
       "      <td>0</td>\n",
       "      <td>0</td>\n",
       "      <td>0</td>\n",
       "      <td>0</td>\n",
       "      <td>0</td>\n",
       "      <td>1</td>\n",
       "      <td>0</td>\n",
       "      <td>0</td>\n",
       "    </tr>\n",
       "    <tr>\n",
       "      <th>4</th>\n",
       "      <td>2450</td>\n",
       "      <td>2200.000</td>\n",
       "      <td>18</td>\n",
       "      <td>1</td>\n",
       "      <td>0</td>\n",
       "      <td>0</td>\n",
       "      <td>0</td>\n",
       "      <td>0</td>\n",
       "      <td>0</td>\n",
       "      <td>1</td>\n",
       "      <td>...</td>\n",
       "      <td>0</td>\n",
       "      <td>0</td>\n",
       "      <td>0</td>\n",
       "      <td>0</td>\n",
       "      <td>0</td>\n",
       "      <td>0</td>\n",
       "      <td>0</td>\n",
       "      <td>1</td>\n",
       "      <td>0</td>\n",
       "      <td>0</td>\n",
       "    </tr>\n",
       "  </tbody>\n",
       "</table>\n",
       "<p>5 rows × 33 columns</p>\n",
       "</div>"
      ],
      "text/plain": [
       "   priceUSD  volume(cm3)_imputed  car_age  condition_with damage  \\\n",
       "0       565             2000.000       27                      0   \n",
       "1      5550             1400.000       12                      0   \n",
       "2      8300             2500.000       12                      0   \n",
       "3      3300             1200.000       15                      0   \n",
       "4      2450             2200.000       18                      1   \n",
       "\n",
       "   condition_with mileage  fuel_type_electrocar  fuel_type_petrol  color_blue  \\\n",
       "0                       1                     0                 1           0   \n",
       "1                       1                     0                 0           0   \n",
       "2                       1                     0                 1           0   \n",
       "3                       1                     0                 1           1   \n",
       "4                       0                     0                 0           0   \n",
       "\n",
       "   color_brown  color_burgundy  ...  segment_imputed_E  segment_imputed_F  \\\n",
       "0            0               0  ...                  0                  0   \n",
       "1            0               0  ...                  0                  0   \n",
       "2            0               0  ...                  0                  0   \n",
       "3            0               0  ...                  0                  0   \n",
       "4            0               1  ...                  0                  0   \n",
       "\n",
       "   segment_imputed_J  segment_imputed_M  segment_imputed_Missing  \\\n",
       "0                  0                  0                        0   \n",
       "1                  0                  1                        0   \n",
       "2                  0                  0                        0   \n",
       "3                  0                  0                        0   \n",
       "4                  0                  0                        0   \n",
       "\n",
       "   segment_imputed_S  drive_unit_imputed_all-wheel drive  \\\n",
       "0                  0                                   0   \n",
       "1                  0                                   0   \n",
       "2                  0                                   0   \n",
       "3                  0                                   0   \n",
       "4                  0                                   0   \n",
       "\n",
       "   drive_unit_imputed_front-wheel drive  \\\n",
       "0                                     1   \n",
       "1                                     1   \n",
       "2                                     1   \n",
       "3                                     1   \n",
       "4                                     1   \n",
       "\n",
       "   drive_unit_imputed_part-time four-wheel drive  \\\n",
       "0                                              0   \n",
       "1                                              0   \n",
       "2                                              0   \n",
       "3                                              0   \n",
       "4                                              0   \n",
       "\n",
       "   drive_unit_imputed_rear drive  \n",
       "0                              0  \n",
       "1                              0  \n",
       "2                              0  \n",
       "3                              0  \n",
       "4                              0  \n",
       "\n",
       "[5 rows x 33 columns]"
      ]
     },
     "execution_count": 63,
     "metadata": {},
     "output_type": "execute_result"
    }
   ],
   "source": [
    "car_dummy.head()"
   ]
  },
  {
   "cell_type": "code",
   "execution_count": 64,
   "metadata": {},
   "outputs": [],
   "source": [
    "# Importing some necessary libraries\n",
    "from sklearn.model_selection import train_test_split\n",
    "from sklearn.linear_model import LinearRegression\n",
    "from sklearn.ensemble import RandomForestRegressor\n",
    "from sklearn.metrics import mean_squared_error,mean_absolute_error,r2_score"
   ]
  },
  {
   "cell_type": "code",
   "execution_count": 65,
   "metadata": {},
   "outputs": [],
   "source": [
    "# separating input and output features\n",
    "x1 = car_dummy.drop(['priceUSD'],axis = 'columns',inplace = False)\n",
    "y1 = car_dummy['priceUSD']"
   ]
  },
  {
   "cell_type": "code",
   "execution_count": 66,
   "metadata": {},
   "outputs": [
    {
     "data": {
      "image/png": "[encoded data removed]",
      "text/plain": [
       "<Figure size 432x288 with 2 Axes>"
      ]
     },
     "metadata": {
      "needs_background": "light"
     },
     "output_type": "display_data"
    }
   ],
   "source": [
    "# plotting the variable price\n",
    "prices = pd.DataFrame({\"1. Before\": y1, \"2. After\": np.log(y1)})\n",
    "prices.hist()\n",
    "plt.show()"
   ]
  },
  {
   "cell_type": "code",
   "execution_count": 67,
   "metadata": {},
   "outputs": [],
   "source": [
    "# Transforming price variable into log variale\n",
    "y1 = np.log(y1)"
   ]
  },
  {
   "cell_type": "code",
   "execution_count": 68,
   "metadata": {},
   "outputs": [
    {
     "name": "stdout",
     "output_type": "stream",
     "text": [
      "(31915, 32) (7979, 32) (31915,) (7979,)\n"
     ]
    }
   ],
   "source": [
    "# Split Train and Test Set\n",
    "X_train, X_test, y_train, y_test = train_test_split(x1,y1,test_size = 0.2,random_state = 3)\n",
    "print(X_train.shape, X_test.shape, y_train.shape, y_test.shape)"
   ]
  },
  {
   "cell_type": "markdown",
   "metadata": {},
   "source": [
    "### Baseline Model"
   ]
  },
  {
   "cell_type": "markdown",
   "metadata": {},
   "source": [
    "we are making a base model by using test data mean value.\n",
    "This is set a benchmark and to compare it with our regression model."
   ]
  },
  {
   "cell_type": "code",
   "execution_count": 69,
   "metadata": {},
   "outputs": [],
   "source": [
    "# finding the mean for test data value\n",
    "base_pred = np.mean(y_test)"
   ]
  },
  {
   "cell_type": "code",
   "execution_count": 70,
   "metadata": {},
   "outputs": [],
   "source": [
    "# repeating same value till the test length\n",
    "base_pred = np.repeat(base_pred,len(y_test))"
   ]
  },
  {
   "cell_type": "code",
   "execution_count": 71,
   "metadata": {},
   "outputs": [
    {
     "name": "stdout",
     "output_type": "stream",
     "text": [
      "Root Mean Squared Error for Base Model is:  1.0407918683735802\n"
     ]
    }
   ],
   "source": [
    "# finding RMSE\n",
    "base_root_mean_squared_error = np.sqrt(mean_squared_error(y_test,base_pred))\n",
    "print(\"Root Mean Squared Error for Base Model is: \",base_root_mean_squared_error)"
   ]
  },
  {
   "cell_type": "markdown",
   "metadata": {},
   "source": [
    "### Linear Regression"
   ]
  },
  {
   "cell_type": "code",
   "execution_count": 72,
   "metadata": {},
   "outputs": [],
   "source": [
    "# setting intercept as true\n",
    "lgr = LinearRegression(fit_intercept = True)"
   ]
  },
  {
   "cell_type": "code",
   "execution_count": 73,
   "metadata": {},
   "outputs": [],
   "source": [
    "# fit the model\n",
    "model_lin1 = lgr.fit(X_train,y_train)"
   ]
  },
  {
   "cell_type": "code",
   "execution_count": 74,
   "metadata": {},
   "outputs": [],
   "source": [
    "# predicting model on test data\n",
    "car_predictions_lin1 = model_lin1.predict(X_test)"
   ]
  },
  {
   "cell_type": "code",
   "execution_count": 75,
   "metadata": {},
   "outputs": [
    {
     "name": "stdout",
     "output_type": "stream",
     "text": [
      "R2 for Train Data 0.8143723914312724\n",
      "R2 for Test Data 0.804931313684284\n"
     ]
    }
   ],
   "source": [
    "# R Squared Value\n",
    "r2_lin_train1 = model_lin1.score(X_train,y_train)\n",
    "r2_lin_test1 = model_lin1.score(X_test,y_test)\n",
    "print('R2 for Train Data',r2_lin_train1)\n",
    "print('R2 for Test Data', r2_lin_test1)"
   ]
  },
  {
   "cell_type": "code",
   "execution_count": 76,
   "metadata": {},
   "outputs": [
    {
     "name": "stdout",
     "output_type": "stream",
     "text": [
      "MAE: 0.3119023459954037\n",
      "MSE: 0.21130770838258328\n",
      "RMSE: 0.45968218192853993\n",
      "R2 Score: 0.804931313684284\n"
     ]
    }
   ],
   "source": [
    "print('MAE:', mean_absolute_error(y_test, car_predictions_lin1))\n",
    "print('MSE:', mean_squared_error(y_test, car_predictions_lin1))\n",
    "print('RMSE:', np.sqrt(mean_squared_error(y_test, car_predictions_lin1)))\n",
    "print('R2 Score:', r2_score(y_test, car_predictions_lin1))"
   ]
  },
  {
   "cell_type": "markdown",
   "metadata": {},
   "source": [
    "From RMSE value, we can say that linear regression model is better that our baseline model."
   ]
  },
  {
   "cell_type": "code",
   "execution_count": 77,
   "metadata": {},
   "outputs": [
    {
     "data": {
      "image/png": "[encoded data removed]",
      "text/plain": [
       "<Figure size 432x288 with 1 Axes>"
      ]
     },
     "metadata": {
      "needs_background": "light"
     },
     "output_type": "display_data"
    }
   ],
   "source": [
    "# Residuals plot\n",
    "residuals  = y_test - car_predictions_lin1\n",
    "sns.regplot(x = car_predictions_lin1, y = residuals,scatter = True, fit_reg= False,color='red')\n",
    "plt.xlabel('Predicted value')\n",
    "plt.ylabel('residual')\n",
    "plt.title('Scatter plot between residual and predicted value')\n",
    "plt.show()"
   ]
  },
  {
   "cell_type": "code",
   "execution_count": 78,
   "metadata": {},
   "outputs": [
    {
     "data": {
      "image/png": "[encoded data removed]",
      "text/plain": [
       "<Figure size 432x288 with 1 Axes>"
      ]
     },
     "metadata": {
      "needs_background": "light"
     },
     "output_type": "display_data"
    }
   ],
   "source": [
    "plt.hist(residuals,bins=100)\n",
    "plt.xlabel('Residual')\n",
    "plt.ylabel('Frequency')\n",
    "plt.title('Histogram Plot for Residuals')\n",
    "plt.show()"
   ]
  },
  {
   "cell_type": "code",
   "execution_count": 79,
   "metadata": {},
   "outputs": [
    {
     "data": {
      "image/png": "[encoded data removed]",
      "text/plain": [
       "<Figure size 432x288 with 1 Axes>"
      ]
     },
     "metadata": {
      "needs_background": "light"
     },
     "output_type": "display_data"
    }
   ],
   "source": [
    "plt.scatter(y_test,car_predictions_lin1,c='orange')\n",
    "plt.xlabel('Original Y')\n",
    "plt.ylabel('Predicted Y')\n",
    "plt.title('Scatter Plot between y and y_predicted')\n",
    "plt.show()"
   ]
  },
  {
   "cell_type": "markdown",
   "metadata": {},
   "source": [
    "### Random Forest Regressor"
   ]
  },
  {
   "cell_type": "code",
   "execution_count": 80,
   "metadata": {},
   "outputs": [],
   "source": [
    "from sklearn.ensemble import RandomForestRegressor\n",
    "from sklearn.model_selection import RandomizedSearchCV\n",
    "rf = RandomForestRegressor()"
   ]
  },
  {
   "cell_type": "code",
   "execution_count": 81,
   "metadata": {},
   "outputs": [],
   "source": [
    "#Randomized Search CV\n",
    "\n",
    "# Number of trees in random forest\n",
    "n_estimators = [int(x) for x in np.linspace(start = 100, stop = 1200, num = 6)]\n",
    "\n",
    "# Number of features to consider at every split\n",
    "max_features = ['auto', 'sqrt']\n",
    "\n",
    "# Maximum number of levels in tree\n",
    "max_depth = [int(x) for x in np.linspace(15, 30, num = 4)]\n",
    "# max_depth.append(None)\n",
    "\n",
    "# Minimum number of samples required to split a node\n",
    "min_samples_split = [10, 15, 20]\n",
    "\n",
    "# Minimum number of samples required at each leaf node\n",
    "min_samples_leaf = [1, 2, 5]"
   ]
  },
  {
   "cell_type": "code",
   "execution_count": 82,
   "metadata": {},
   "outputs": [
    {
     "name": "stdout",
     "output_type": "stream",
     "text": [
      "{'n_estimators': [100, 320, 540, 760, 980, 1200], 'max_features': ['auto', 'sqrt'], 'max_depth': [15, 20, 25, 30], 'min_samples_split': [10, 15, 20], 'min_samples_leaf': [1, 2, 5]}\n"
     ]
    }
   ],
   "source": [
    "# Create the random grid\n",
    "random_grid = {'n_estimators': n_estimators,\n",
    "               'max_features': max_features,\n",
    "               'max_depth': max_depth,\n",
    "               'min_samples_split': min_samples_split,\n",
    "               'min_samples_leaf': min_samples_leaf}\n",
    "\n",
    "print(random_grid)"
   ]
  },
  {
   "cell_type": "code",
   "execution_count": 83,
   "metadata": {},
   "outputs": [],
   "source": [
    "# Random search of parameters, using 5 fold cross validation, \n",
    "# search across 100 different combinations\n",
    "rf_random = RandomizedSearchCV(estimator = rf, param_distributions = random_grid,scoring='neg_mean_squared_error', n_iter = 10, cv = 5, verbose=2, random_state=42, n_jobs = 1)"
   ]
  },
  {
   "cell_type": "code",
   "execution_count": 84,
   "metadata": {},
   "outputs": [
    {
     "name": "stdout",
     "output_type": "stream",
     "text": [
      "Fitting 5 folds for each of 10 candidates, totalling 50 fits\n",
      "[CV] n_estimators=980, min_samples_split=15, min_samples_leaf=5, max_features=sqrt, max_depth=30 \n"
     ]
    },
    {
     "name": "stderr",
     "output_type": "stream",
     "text": [
      "[Parallel(n_jobs=1)]: Using backend SequentialBackend with 1 concurrent workers.\n"
     ]
    },
    {
     "name": "stdout",
     "output_type": "stream",
     "text": [
      "[CV]  n_estimators=980, min_samples_split=15, min_samples_leaf=5, max_features=sqrt, max_depth=30, total=  21.4s\n",
      "[CV] n_estimators=980, min_samples_split=15, min_samples_leaf=5, max_features=sqrt, max_depth=30 \n"
     ]
    },
    {
     "name": "stderr",
     "output_type": "stream",
     "text": [
      "[Parallel(n_jobs=1)]: Done   1 out of   1 | elapsed:   21.4s remaining:    0.0s\n"
     ]
    },
    {
     "name": "stdout",
     "output_type": "stream",
     "text": [
      "[CV]  n_estimators=980, min_samples_split=15, min_samples_leaf=5, max_features=sqrt, max_depth=30, total=  19.7s\n",
      "[CV] n_estimators=980, min_samples_split=15, min_samples_leaf=5, max_features=sqrt, max_depth=30 \n",
      "[CV]  n_estimators=980, min_samples_split=15, min_samples_leaf=5, max_features=sqrt, max_depth=30, total=  19.2s\n",
      "[CV] n_estimators=980, min_samples_split=15, min_samples_leaf=5, max_features=sqrt, max_depth=30 \n",
      "[CV]  n_estimators=980, min_samples_split=15, min_samples_leaf=5, max_features=sqrt, max_depth=30, total=  19.0s\n",
      "[CV] n_estimators=980, min_samples_split=15, min_samples_leaf=5, max_features=sqrt, max_depth=30 \n",
      "[CV]  n_estimators=980, min_samples_split=15, min_samples_leaf=5, max_features=sqrt, max_depth=30, total=  18.8s\n",
      "[CV] n_estimators=760, min_samples_split=10, min_samples_leaf=2, max_features=sqrt, max_depth=15 \n",
      "[CV]  n_estimators=760, min_samples_split=10, min_samples_leaf=2, max_features=sqrt, max_depth=15, total=  14.5s\n",
      "[CV] n_estimators=760, min_samples_split=10, min_samples_leaf=2, max_features=sqrt, max_depth=15 \n",
      "[CV]  n_estimators=760, min_samples_split=10, min_samples_leaf=2, max_features=sqrt, max_depth=15, total=  14.6s\n",
      "[CV] n_estimators=760, min_samples_split=10, min_samples_leaf=2, max_features=sqrt, max_depth=15 \n",
      "[CV]  n_estimators=760, min_samples_split=10, min_samples_leaf=2, max_features=sqrt, max_depth=15, total=  14.5s\n",
      "[CV] n_estimators=760, min_samples_split=10, min_samples_leaf=2, max_features=sqrt, max_depth=15 \n",
      "[CV]  n_estimators=760, min_samples_split=10, min_samples_leaf=2, max_features=sqrt, max_depth=15, total=  14.5s\n",
      "[CV] n_estimators=760, min_samples_split=10, min_samples_leaf=2, max_features=sqrt, max_depth=15 \n",
      "[CV]  n_estimators=760, min_samples_split=10, min_samples_leaf=2, max_features=sqrt, max_depth=15, total=  14.5s\n",
      "[CV] n_estimators=100, min_samples_split=10, min_samples_leaf=2, max_features=sqrt, max_depth=20 \n",
      "[CV]  n_estimators=100, min_samples_split=10, min_samples_leaf=2, max_features=sqrt, max_depth=20, total=   2.2s\n",
      "[CV] n_estimators=100, min_samples_split=10, min_samples_leaf=2, max_features=sqrt, max_depth=20 \n",
      "[CV]  n_estimators=100, min_samples_split=10, min_samples_leaf=2, max_features=sqrt, max_depth=20, total=   2.2s\n",
      "[CV] n_estimators=100, min_samples_split=10, min_samples_leaf=2, max_features=sqrt, max_depth=20 \n",
      "[CV]  n_estimators=100, min_samples_split=10, min_samples_leaf=2, max_features=sqrt, max_depth=20, total=   2.3s\n",
      "[CV] n_estimators=100, min_samples_split=10, min_samples_leaf=2, max_features=sqrt, max_depth=20 \n",
      "[CV]  n_estimators=100, min_samples_split=10, min_samples_leaf=2, max_features=sqrt, max_depth=20, total=   2.3s\n",
      "[CV] n_estimators=100, min_samples_split=10, min_samples_leaf=2, max_features=sqrt, max_depth=20 \n",
      "[CV]  n_estimators=100, min_samples_split=10, min_samples_leaf=2, max_features=sqrt, max_depth=20, total=   2.2s\n",
      "[CV] n_estimators=100, min_samples_split=20, min_samples_leaf=2, max_features=auto, max_depth=15 \n",
      "[CV]  n_estimators=100, min_samples_split=20, min_samples_leaf=2, max_features=auto, max_depth=15, total=   7.4s\n",
      "[CV] n_estimators=100, min_samples_split=20, min_samples_leaf=2, max_features=auto, max_depth=15 \n",
      "[CV]  n_estimators=100, min_samples_split=20, min_samples_leaf=2, max_features=auto, max_depth=15, total=   7.7s\n",
      "[CV] n_estimators=100, min_samples_split=20, min_samples_leaf=2, max_features=auto, max_depth=15 \n",
      "[CV]  n_estimators=100, min_samples_split=20, min_samples_leaf=2, max_features=auto, max_depth=15, total=   8.0s\n",
      "[CV] n_estimators=100, min_samples_split=20, min_samples_leaf=2, max_features=auto, max_depth=15 \n",
      "[CV]  n_estimators=100, min_samples_split=20, min_samples_leaf=2, max_features=auto, max_depth=15, total=   7.4s\n",
      "[CV] n_estimators=100, min_samples_split=20, min_samples_leaf=2, max_features=auto, max_depth=15 \n",
      "[CV]  n_estimators=100, min_samples_split=20, min_samples_leaf=2, max_features=auto, max_depth=15, total=   7.4s\n",
      "[CV] n_estimators=540, min_samples_split=20, min_samples_leaf=1, max_features=sqrt, max_depth=30 \n",
      "[CV]  n_estimators=540, min_samples_split=20, min_samples_leaf=1, max_features=sqrt, max_depth=30, total=  12.9s\n",
      "[CV] n_estimators=540, min_samples_split=20, min_samples_leaf=1, max_features=sqrt, max_depth=30 \n",
      "[CV]  n_estimators=540, min_samples_split=20, min_samples_leaf=1, max_features=sqrt, max_depth=30, total=  12.9s\n",
      "[CV] n_estimators=540, min_samples_split=20, min_samples_leaf=1, max_features=sqrt, max_depth=30 \n",
      "[CV]  n_estimators=540, min_samples_split=20, min_samples_leaf=1, max_features=sqrt, max_depth=30, total=  12.9s\n",
      "[CV] n_estimators=540, min_samples_split=20, min_samples_leaf=1, max_features=sqrt, max_depth=30 \n",
      "[CV]  n_estimators=540, min_samples_split=20, min_samples_leaf=1, max_features=sqrt, max_depth=30, total=  13.0s\n",
      "[CV] n_estimators=540, min_samples_split=20, min_samples_leaf=1, max_features=sqrt, max_depth=30 \n",
      "[CV]  n_estimators=540, min_samples_split=20, min_samples_leaf=1, max_features=sqrt, max_depth=30, total=  17.4s\n",
      "[CV] n_estimators=1200, min_samples_split=10, min_samples_leaf=1, max_features=sqrt, max_depth=25 \n",
      "[CV]  n_estimators=1200, min_samples_split=10, min_samples_leaf=1, max_features=sqrt, max_depth=25, total=  33.9s\n",
      "[CV] n_estimators=1200, min_samples_split=10, min_samples_leaf=1, max_features=sqrt, max_depth=25 \n",
      "[CV]  n_estimators=1200, min_samples_split=10, min_samples_leaf=1, max_features=sqrt, max_depth=25, total=  32.7s\n",
      "[CV] n_estimators=1200, min_samples_split=10, min_samples_leaf=1, max_features=sqrt, max_depth=25 \n",
      "[CV]  n_estimators=1200, min_samples_split=10, min_samples_leaf=1, max_features=sqrt, max_depth=25, total=  32.9s\n",
      "[CV] n_estimators=1200, min_samples_split=10, min_samples_leaf=1, max_features=sqrt, max_depth=25 \n",
      "[CV]  n_estimators=1200, min_samples_split=10, min_samples_leaf=1, max_features=sqrt, max_depth=25, total=  32.9s\n",
      "[CV] n_estimators=1200, min_samples_split=10, min_samples_leaf=1, max_features=sqrt, max_depth=25 \n",
      "[CV]  n_estimators=1200, min_samples_split=10, min_samples_leaf=1, max_features=sqrt, max_depth=25, total=  32.5s\n",
      "[CV] n_estimators=100, min_samples_split=10, min_samples_leaf=5, max_features=sqrt, max_depth=30 \n",
      "[CV]  n_estimators=100, min_samples_split=10, min_samples_leaf=5, max_features=sqrt, max_depth=30, total=   2.0s\n",
      "[CV] n_estimators=100, min_samples_split=10, min_samples_leaf=5, max_features=sqrt, max_depth=30 \n",
      "[CV]  n_estimators=100, min_samples_split=10, min_samples_leaf=5, max_features=sqrt, max_depth=30, total=   2.0s\n",
      "[CV] n_estimators=100, min_samples_split=10, min_samples_leaf=5, max_features=sqrt, max_depth=30 \n",
      "[CV]  n_estimators=100, min_samples_split=10, min_samples_leaf=5, max_features=sqrt, max_depth=30, total=   2.0s\n",
      "[CV] n_estimators=100, min_samples_split=10, min_samples_leaf=5, max_features=sqrt, max_depth=30 \n",
      "[CV]  n_estimators=100, min_samples_split=10, min_samples_leaf=5, max_features=sqrt, max_depth=30, total=   2.0s\n",
      "[CV] n_estimators=100, min_samples_split=10, min_samples_leaf=5, max_features=sqrt, max_depth=30 \n",
      "[CV]  n_estimators=100, min_samples_split=10, min_samples_leaf=5, max_features=sqrt, max_depth=30, total=   2.0s\n",
      "[CV] n_estimators=980, min_samples_split=15, min_samples_leaf=5, max_features=auto, max_depth=20 \n",
      "[CV]  n_estimators=980, min_samples_split=15, min_samples_leaf=5, max_features=auto, max_depth=20, total= 1.2min\n",
      "[CV] n_estimators=980, min_samples_split=15, min_samples_leaf=5, max_features=auto, max_depth=20 \n",
      "[CV]  n_estimators=980, min_samples_split=15, min_samples_leaf=5, max_features=auto, max_depth=20, total= 1.3min\n",
      "[CV] n_estimators=980, min_samples_split=15, min_samples_leaf=5, max_features=auto, max_depth=20 \n",
      "[CV]  n_estimators=980, min_samples_split=15, min_samples_leaf=5, max_features=auto, max_depth=20, total= 1.3min\n",
      "[CV] n_estimators=980, min_samples_split=15, min_samples_leaf=5, max_features=auto, max_depth=20 \n",
      "[CV]  n_estimators=980, min_samples_split=15, min_samples_leaf=5, max_features=auto, max_depth=20, total= 1.2min\n",
      "[CV] n_estimators=980, min_samples_split=15, min_samples_leaf=5, max_features=auto, max_depth=20 \n",
      "[CV]  n_estimators=980, min_samples_split=15, min_samples_leaf=5, max_features=auto, max_depth=20, total= 1.2min\n",
      "[CV] n_estimators=760, min_samples_split=20, min_samples_leaf=2, max_features=sqrt, max_depth=20 \n"
     ]
    },
    {
     "name": "stdout",
     "output_type": "stream",
     "text": [
      "[CV]  n_estimators=760, min_samples_split=20, min_samples_leaf=2, max_features=sqrt, max_depth=20, total=  15.8s\n",
      "[CV] n_estimators=760, min_samples_split=20, min_samples_leaf=2, max_features=sqrt, max_depth=20 \n",
      "[CV]  n_estimators=760, min_samples_split=20, min_samples_leaf=2, max_features=sqrt, max_depth=20, total=  15.7s\n",
      "[CV] n_estimators=760, min_samples_split=20, min_samples_leaf=2, max_features=sqrt, max_depth=20 \n",
      "[CV]  n_estimators=760, min_samples_split=20, min_samples_leaf=2, max_features=sqrt, max_depth=20, total=  15.8s\n",
      "[CV] n_estimators=760, min_samples_split=20, min_samples_leaf=2, max_features=sqrt, max_depth=20 \n",
      "[CV]  n_estimators=760, min_samples_split=20, min_samples_leaf=2, max_features=sqrt, max_depth=20, total=  15.9s\n",
      "[CV] n_estimators=760, min_samples_split=20, min_samples_leaf=2, max_features=sqrt, max_depth=20 \n",
      "[CV]  n_estimators=760, min_samples_split=20, min_samples_leaf=2, max_features=sqrt, max_depth=20, total=  15.8s\n",
      "[CV] n_estimators=980, min_samples_split=10, min_samples_leaf=5, max_features=auto, max_depth=20 \n",
      "[CV]  n_estimators=980, min_samples_split=10, min_samples_leaf=5, max_features=auto, max_depth=20, total= 1.3min\n",
      "[CV] n_estimators=980, min_samples_split=10, min_samples_leaf=5, max_features=auto, max_depth=20 \n",
      "[CV]  n_estimators=980, min_samples_split=10, min_samples_leaf=5, max_features=auto, max_depth=20, total= 1.3min\n",
      "[CV] n_estimators=980, min_samples_split=10, min_samples_leaf=5, max_features=auto, max_depth=20 \n",
      "[CV]  n_estimators=980, min_samples_split=10, min_samples_leaf=5, max_features=auto, max_depth=20, total= 1.3min\n",
      "[CV] n_estimators=980, min_samples_split=10, min_samples_leaf=5, max_features=auto, max_depth=20 \n",
      "[CV]  n_estimators=980, min_samples_split=10, min_samples_leaf=5, max_features=auto, max_depth=20, total= 1.3min\n",
      "[CV] n_estimators=980, min_samples_split=10, min_samples_leaf=5, max_features=auto, max_depth=20 \n",
      "[CV]  n_estimators=980, min_samples_split=10, min_samples_leaf=5, max_features=auto, max_depth=20, total= 1.4min\n"
     ]
    },
    {
     "name": "stderr",
     "output_type": "stream",
     "text": [
      "[Parallel(n_jobs=1)]: Done  50 out of  50 | elapsed: 21.9min finished\n"
     ]
    },
    {
     "data": {
      "text/plain": [
       "RandomizedSearchCV(cv=5, estimator=RandomForestRegressor(), n_jobs=1,\n",
       "                   param_distributions={'max_depth': [15, 20, 25, 30],\n",
       "                                        'max_features': ['auto', 'sqrt'],\n",
       "                                        'min_samples_leaf': [1, 2, 5],\n",
       "                                        'min_samples_split': [10, 15, 20],\n",
       "                                        'n_estimators': [100, 320, 540, 760,\n",
       "                                                         980, 1200]},\n",
       "                   random_state=42, scoring='neg_mean_squared_error',\n",
       "                   verbose=2)"
      ]
     },
     "execution_count": 84,
     "metadata": {},
     "output_type": "execute_result"
    }
   ],
   "source": [
    "rf_random.fit(X_train,y_train)"
   ]
  },
  {
   "cell_type": "code",
   "execution_count": 85,
   "metadata": {},
   "outputs": [
    {
     "data": {
      "text/plain": [
       "{'n_estimators': 100,\n",
       " 'min_samples_split': 20,\n",
       " 'min_samples_leaf': 2,\n",
       " 'max_features': 'auto',\n",
       " 'max_depth': 15}"
      ]
     },
     "execution_count": 85,
     "metadata": {},
     "output_type": "execute_result"
    }
   ],
   "source": [
    "rf_random.best_params_"
   ]
  },
  {
   "cell_type": "code",
   "execution_count": 86,
   "metadata": {},
   "outputs": [
    {
     "data": {
      "text/plain": [
       "-0.13136875623102368"
      ]
     },
     "execution_count": 86,
     "metadata": {},
     "output_type": "execute_result"
    }
   ],
   "source": [
    "rf_random.best_score_"
   ]
  },
  {
   "cell_type": "code",
   "execution_count": 87,
   "metadata": {},
   "outputs": [],
   "source": [
    "y_pred = rf_random.predict(X_test)"
   ]
  },
  {
   "cell_type": "code",
   "execution_count": 88,
   "metadata": {},
   "outputs": [
    {
     "name": "stdout",
     "output_type": "stream",
     "text": [
      "MAE: 0.25101853677783315\n",
      "MSE: 0.13472717107639307\n",
      "RMSE: 0.3670520005072756\n",
      "R2 Score: 0.875626627755001\n"
     ]
    }
   ],
   "source": [
    "print('MAE:', mean_absolute_error(y_test, y_pred))\n",
    "print('MSE:', mean_squared_error(y_test, y_pred))\n",
    "print('RMSE:', np.sqrt(mean_squared_error(y_test, y_pred)))\n",
    "print('R2 Score:', r2_score(y_test, y_pred))"
   ]
  },
  {
   "cell_type": "code",
   "execution_count": 89,
   "metadata": {},
   "outputs": [
    {
     "data": {
      "image/png": "[encoded data removed]",
      "text/plain": [
       "<Figure size 432x288 with 1 Axes>"
      ]
     },
     "metadata": {
      "needs_background": "light"
     },
     "output_type": "display_data"
    }
   ],
   "source": [
    "# Residuals plot\n",
    "residuals  = y_test - y_pred\n",
    "sns.regplot(x = y_pred, y = residuals,scatter = True, fit_reg= False,color='red')\n",
    "plt.xlabel('Predicted y')\n",
    "plt.ylabel('residuals')\n",
    "plt.title('Scatter plot between Predicted and residuals')\n",
    "plt.show()"
   ]
  },
  {
   "cell_type": "code",
   "execution_count": 90,
   "metadata": {},
   "outputs": [
    {
     "data": {
      "image/png": "[encoded data removed]",
      "text/plain": [
       "<Figure size 432x288 with 1 Axes>"
      ]
     },
     "metadata": {
      "needs_background": "light"
     },
     "output_type": "display_data"
    }
   ],
   "source": [
    "sns.distplot(residuals)\n",
    "plt.xlabel('Residuals')\n",
    "plt.ylabel('f(Residuals)')\n",
    "plt.title('Distribution of Residuals')\n",
    "plt.show()"
   ]
  },
  {
   "cell_type": "code",
   "execution_count": 91,
   "metadata": {},
   "outputs": [
    {
     "data": {
      "image/png": "[encoded data removed]",
      "text/plain": [
       "<Figure size 432x288 with 1 Axes>"
      ]
     },
     "metadata": {
      "needs_background": "light"
     },
     "output_type": "display_data"
    }
   ],
   "source": [
    "plt.scatter(y_test,y_pred,c='orange')\n",
    "plt.xlabel('Original Y')\n",
    "plt.ylabel('Predicted Y')\n",
    "plt.title('Scatter Plot between y and y_predicted')\n",
    "plt.show()"
   ]
  },
  {
   "cell_type": "code",
   "execution_count": null,
   "metadata": {},
   "outputs": [],
   "source": []
  }
 ],
 "metadata": {
  "kernelspec": {
   "display_name": "Python 3",
   "language": "python",
   "name": "python3"
  },
  "language_info": {
   "codemirror_mode": {
    "name": "ipython",
    "version": 3
   },
   "file_extension": ".py",
   "mimetype": "text/x-python",
   "name": "python",
   "nbconvert_exporter": "python",
   "pygments_lexer": "ipython3",
   "version": "3.7.3"
  }
 },
 "nbformat": 4,
 "nbformat_minor": 2
}
